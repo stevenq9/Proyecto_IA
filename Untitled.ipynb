{
 "cells": [
  {
   "cell_type": "code",
   "execution_count": 87,
   "id": "fe15e951-b865-410b-b762-d5b81f13a1ad",
   "metadata": {},
   "outputs": [],
   "source": [
    "from pathlib import Path\n",
    "\n",
    "import pandas as pd\n",
    "from sklearn import preprocessing\n",
    "from sklearn.model_selection import train_test_split\n",
    "from sklearn.metrics import accuracy_score\n",
    "from sklearn.neighbors import NearestNeighbors, KNeighborsClassifier\n",
    "import matplotlib.pylab as plt\n",
    "import seaborn as sns \n",
    "from sklearn.preprocessing import StandardScaler\n",
    "from sklearn.metrics import accuracy_score"
   ]
  },
  {
   "cell_type": "code",
   "execution_count": 20,
   "id": "a847fb3a-7483-4f53-9c22-28fc5dd20ff4",
   "metadata": {},
   "outputs": [
    {
     "data": {
      "text/html": [
       "<div>\n",
       "<style scoped>\n",
       "    .dataframe tbody tr th:only-of-type {\n",
       "        vertical-align: middle;\n",
       "    }\n",
       "\n",
       "    .dataframe tbody tr th {\n",
       "        vertical-align: top;\n",
       "    }\n",
       "\n",
       "    .dataframe thead th {\n",
       "        text-align: right;\n",
       "    }\n",
       "</style>\n",
       "<table border=\"1\" class=\"dataframe\">\n",
       "  <thead>\n",
       "    <tr style=\"text-align: right;\">\n",
       "      <th></th>\n",
       "      <th>SEXO</th>\n",
       "      <th>ORIENTACION SEXUAL</th>\n",
       "      <th>IDENTIDAD GENERO</th>\n",
       "      <th>EDAD AÑOS</th>\n",
       "      <th>APORTA</th>\n",
       "      <th>AUTOIDENTIDAD PACIENTE</th>\n",
       "      <th>TIPO DE BONO PACIENTE</th>\n",
       "      <th>GP 1</th>\n",
       "      <th>PREVENCION</th>\n",
       "      <th>MORBILIDAD</th>\n",
       "      <th>CONDICION DE DIAGNOSTICO</th>\n",
       "      <th>CODIGO CIE 10</th>\n",
       "    </tr>\n",
       "  </thead>\n",
       "  <tbody>\n",
       "    <tr>\n",
       "      <th>1</th>\n",
       "      <td>Mujer</td>\n",
       "      <td>Heterosexual</td>\n",
       "      <td>Femenino</td>\n",
       "      <td>41</td>\n",
       "      <td>No aporta</td>\n",
       "      <td>Mestizo/a</td>\n",
       "      <td>Desarrollo Humano</td>\n",
       "      <td>Embarazadas</td>\n",
       "      <td>710 Primera</td>\n",
       "      <td>0</td>\n",
       "      <td>0</td>\n",
       "      <td>Z300 CONSEJO Y ASESORAMIENTO GENERAL SOBRE LA ...</td>\n",
       "    </tr>\n",
       "    <tr>\n",
       "      <th>2</th>\n",
       "      <td>Mujer</td>\n",
       "      <td>Heterosexual</td>\n",
       "      <td>Femenino</td>\n",
       "      <td>69</td>\n",
       "      <td>Seguro ISSPOL</td>\n",
       "      <td>Mestizo/a</td>\n",
       "      <td>Ninguno</td>\n",
       "      <td>No aplica</td>\n",
       "      <td>0</td>\n",
       "      <td>710 Primera</td>\n",
       "      <td>226 Definitivo Control</td>\n",
       "      <td>Z501 OTRAS TERAPIAS FISICAS</td>\n",
       "    </tr>\n",
       "    <tr>\n",
       "      <th>3</th>\n",
       "      <td>Hombre</td>\n",
       "      <td>Heterosexual</td>\n",
       "      <td>Masculino</td>\n",
       "      <td>73</td>\n",
       "      <td>IESS, Afiliado seguro Campesino</td>\n",
       "      <td>Mestizo/a</td>\n",
       "      <td>Ninguno</td>\n",
       "      <td>No aplica</td>\n",
       "      <td>0</td>\n",
       "      <td>710 Primera</td>\n",
       "      <td>226 Definitivo Control</td>\n",
       "      <td>Z501 OTRAS TERAPIAS FISICAS</td>\n",
       "    </tr>\n",
       "    <tr>\n",
       "      <th>4</th>\n",
       "      <td>Mujer</td>\n",
       "      <td>Heterosexual</td>\n",
       "      <td>Femenino</td>\n",
       "      <td>23</td>\n",
       "      <td>No aporta</td>\n",
       "      <td>Mestizo/a</td>\n",
       "      <td>Ninguno</td>\n",
       "      <td>Planificacion Familiar</td>\n",
       "      <td>711 Subsecuente</td>\n",
       "      <td>0</td>\n",
       "      <td>0</td>\n",
       "      <td>Z501 OTRAS TERAPIAS FISICAS</td>\n",
       "    </tr>\n",
       "    <tr>\n",
       "      <th>5</th>\n",
       "      <td>Hombre</td>\n",
       "      <td>Heterosexual</td>\n",
       "      <td>Masculino</td>\n",
       "      <td>19</td>\n",
       "      <td>No aporta</td>\n",
       "      <td>Mestizo/a</td>\n",
       "      <td>Ninguno</td>\n",
       "      <td>No aplica</td>\n",
       "      <td>0</td>\n",
       "      <td>710 Primera</td>\n",
       "      <td>226 Definitivo Control</td>\n",
       "      <td>Z501 OTRAS TERAPIAS FISICAS</td>\n",
       "    </tr>\n",
       "  </tbody>\n",
       "</table>\n",
       "</div>"
      ],
      "text/plain": [
       "     SEXO ORIENTACION SEXUAL IDENTIDAD GENERO EDAD AÑOS  \\\n",
       "1   Mujer       Heterosexual         Femenino        41   \n",
       "2   Mujer       Heterosexual         Femenino        69   \n",
       "3  Hombre       Heterosexual        Masculino        73   \n",
       "4   Mujer       Heterosexual         Femenino        23   \n",
       "5  Hombre       Heterosexual        Masculino        19   \n",
       "\n",
       "                            APORTA AUTOIDENTIDAD PACIENTE  \\\n",
       "1                        No aporta              Mestizo/a   \n",
       "2                    Seguro ISSPOL              Mestizo/a   \n",
       "3  IESS, Afiliado seguro Campesino              Mestizo/a   \n",
       "4                        No aporta              Mestizo/a   \n",
       "5                        No aporta              Mestizo/a   \n",
       "\n",
       "  TIPO DE BONO PACIENTE                    GP 1       PREVENCION   MORBILIDAD  \\\n",
       "1     Desarrollo Humano             Embarazadas      710 Primera            0   \n",
       "2               Ninguno               No aplica                0  710 Primera   \n",
       "3               Ninguno               No aplica                0  710 Primera   \n",
       "4               Ninguno  Planificacion Familiar  711 Subsecuente            0   \n",
       "5               Ninguno               No aplica                0  710 Primera   \n",
       "\n",
       "  CONDICION DE DIAGNOSTICO                                      CODIGO CIE 10  \n",
       "1                        0  Z300 CONSEJO Y ASESORAMIENTO GENERAL SOBRE LA ...  \n",
       "2   226 Definitivo Control                        Z501 OTRAS TERAPIAS FISICAS  \n",
       "3   226 Definitivo Control                        Z501 OTRAS TERAPIAS FISICAS  \n",
       "4                        0                        Z501 OTRAS TERAPIAS FISICAS  \n",
       "5   226 Definitivo Control                        Z501 OTRAS TERAPIAS FISICAS  "
      ]
     },
     "execution_count": 20,
     "metadata": {},
     "output_type": "execute_result"
    }
   ],
   "source": [
    "pacientes = pd.read_csv('dataFinal.csv', sep=';', header=None)\n",
    "pacientesOriginales =  pd.read_csv('dataFinal.csv', sep=';', header=None)\n",
    "pacientes.columns = ['SEXO','ORIENTACION SEXUAL','IDENTIDAD GENERO','EDAD AÑOS','APORTA','AUTOIDENTIDAD PACIENTE','TIPO DE BONO PACIENTE','GP 1','PREVENCION','MORBILIDAD','CONDICION DE DIAGNOSTICO','CODIGO CIE 10']\n",
    "pacientesOriginales.columns = ['SEXO','ORIENTACION SEXUAL','IDENTIDAD GENERO','EDAD AÑOS','APORTA','AUTOIDENTIDAD PACIENTE','TIPO DE BONO PACIENTE','GP 1','PREVENCION','MORBILIDAD','CONDICION DE DIAGNOSTICO','CODIGO CIE 10']\n",
    "pacientes = pacientes.iloc[1:,:]\n",
    "pacientesOriginales = pacientesOriginales.iloc[1:]\n",
    "pacientes.head()"
   ]
  },
  {
   "cell_type": "code",
   "execution_count": 21,
   "id": "e134af05-58e2-4d02-b570-838dc8f7e2fa",
   "metadata": {},
   "outputs": [],
   "source": [
    "# poner todos en minusculas\n",
    "for x in range(len(pacientes.columns)):    \n",
    "    for i in range(len(pacientes.iloc[:,0])):\n",
    "        pacientes.iloc[i,x] = pacientes.iloc[i,x].lower() \n",
    "        pacientesOriginales.iloc[i,x] = pacientesOriginales.iloc[i,x].lower() \n",
    "#mostrar valores unicos\n",
    "#for i in pacientes.columns:\n",
    "#    print(f'Columna {i}: {pacientes[i].unique()}')\n"
   ]
  },
  {
   "cell_type": "code",
   "execution_count": 22,
   "id": "5a41f929-9dbf-450f-afb7-9f3a4f106b3c",
   "metadata": {},
   "outputs": [
    {
     "name": "stdout",
     "output_type": "stream",
     "text": [
      "mujer---0\n",
      "heterosexual---1\n",
      "femenino---2\n",
      "41---3\n",
      "no aporta---4\n",
      "mestizo/a---5\n",
      "desarrollo humano---6\n",
      "embarazadas---7\n",
      "710 primera---8\n",
      "0---9\n",
      "0---10\n",
      "z300 consejo y asesoramiento general sobre la anticoncepcion---11\n"
     ]
    }
   ],
   "source": [
    "# Si algún atributo es una cadena, debe codificarse. \n",
    "\n",
    "label_encoder = [] \n",
    "\n",
    "for columna, valor in enumerate(pacientes.iloc[0,:]):    \n",
    "    print(f'{valor}---{columna}')\n",
    "    if valor.isdigit() and int(valor) != 0: # para la columna 9 y 10 uqe tienen un 0 como primer valor\n",
    "        pacientes.iloc[:,columna] = pacientes.iloc[:,columna].astype(int) # cambio de tipo de dato para edad y casteo\n",
    "        for t in range(len(pacientes.iloc[:,columna])):\n",
    "            pacientes.iloc[t,columna] = int(pacientes.iloc[t,columna])\n",
    "    else:\n",
    "        label_encoder.append(preprocessing.LabelEncoder()) #creacion de instancia de label enconder\n",
    "        pacientes.iloc[:,columna] = label_encoder[-1].fit_transform(pacientes.iloc[:,columna]) # se codifica toda la columna\n",
    "        pacientes.iloc[:,columna].astype(int)\n"
   ]
  },
  {
   "cell_type": "code",
   "execution_count": 23,
   "id": "e9d76ae9-e050-4f63-a2a7-20f914180b6e",
   "metadata": {},
   "outputs": [
    {
     "name": "stdout",
     "output_type": "stream",
     "text": [
      "[2 4 3 1 5 0]   ['heterosexual' 'no aplica' 'lesbiana' 'gay' 'no sabe/no responde'\n",
      " 'bisexual']\n",
      "{1: 'mujer', 0: 'hombre'}\n",
      "\n",
      "{2: 'heterosexual', 4: 'no aplica', 3: 'lesbiana', 1: 'gay', 5: 'no sabe/no responde', 0: 'bisexual'}\n",
      "\n",
      "{0: 'femenino', 1: 'masculino', 2: 'no aplica', 3: 'no sabe/no responde'}\n",
      "\n",
      "{41: '41', 69: '69', 73: '73', 23: '23', 19: '19', 31: '31', 34: '34', 2: '2', 14: '14', 38: '38', 10: '10', 7: '7', 32: '32', 16: '16', 47: '47', 11: '11', 0: '0', 5: '5', 22: '22', 76: '76', 72: '72', 40: '40', 17: '17', 35: '35', 4: '4', 1: '1', 63: '63', 91: '91', 56: '56', 27: '27', 70: '70', 8: '8', 46: '46', 25: '25', 52: '52', 6: '6', 29: '29', 15: '15', 12: '12', 21: '21', 24: '24', 55: '55', 37: '37', 54: '54', 39: '39', 65: '65', 61: '61', 3: '3', 78: '78', 48: '48', 20: '20', 50: '50', 42: '42', 83: '83', 85: '85', 9: '9', 45: '45', 36: '36', 33: '33', 28: '28', 26: '26', 13: '13', 30: '30', 18: '18', 64: '64', 58: '58', 75: '75', 49: '49', 77: '77', 79: '79', 90: '90', 80: '80', 84: '84', 44: '44', 87: '87', 59: '59', 92: '92', 60: '60', 53: '53', 51: '51', 43: '43', 66: '66', 67: '67', 86: '86', 74: '74', 62: '62', 68: '68', 93: '93', 81: '81', 71: '71', 57: '57'}\n",
      "\n",
      "{2: 'no aporta', 4: 'seguro isspol', 0: 'iess, afiliado seguro campesino', 1: 'iess, afiliado seguro general', 3: 'seguro indirecto'}\n",
      "\n",
      "{2: 'mestizo/a', 1: 'indígena', 4: 'no aplica', 0: 'blanco/a', 5: 'no sabe/no responde', 3: 'montubio/a'}\n",
      "\n",
      "{0: 'desarrollo humano', 3: 'ninguno', 1: 'joaquín gallegos lara', 2: 'manuela espejo'}\n",
      "\n",
      "{0: 'embarazadas', 2: 'no aplica', 4: 'planificacion familiar', 3: 'persona con discapacidad', 1: 'enfermedades catastróficas y raras'}\n",
      "\n",
      "{1: '710 primera', 0: '0', 2: '711 subsecuente'}\n",
      "\n",
      "{0: '0', 1: '710 primera', 2: '711 subsecuente'}\n",
      "\n",
      "{0: '0', 4: '226 definitivo control', 2: '224 definitivo inicial', 1: '223 presuntivo', 3: '225 definitivo inicial confirmado por laboratorio'}\n",
      "\n",
      "{49: 'z300 consejo y asesoramiento general sobre la anticoncepcion', 59: 'z501 otras terapias fisicas', 9: 'e669 obesidad, no especificada', 61: 'z713 consulta para instruccion y vigilancia de la dieta', 31: 'no aplica', 47: 'z123 examen de pesquisa especial para tumor de la mama', 57: 'z391 atencion y examen de madre en periodo de lactancia', 28: 'n390 infeccion de vias urinarias, sitio no especificado', 50: 'z3004 consejo y asesoramiento general sobre la anticoncepción. prescripción inical, anticonceptivo oral de emergencia.', 55: 'z353 supervision de embarazo con historia de insuficiente atencion prenatal', 27: 'm255 dolor en articulacion', 43: 'z000 examen medico general', 46: 'z003 examen del estado de desarrollo del adolescente', 6: 'b829 parasitosis intestinal, sin otra especificacion', 22: 'k591 diarrea funcional', 44: 'z001 control de salud de rutina del niño', 17: 'j039 amigdalitis aguda, no especificada', 2: 'b009 infeccion debida al virus del herpes, no especificada', 51: 'z3042 supervisión del uso de drogas anticonceptivas. anticonceptivos orales sólo progesterona.', 52: 'z3043 supervisión del uso de drogas anticonveptivas, anticonceptivos inyectables.', 58: 'z500 rehabilitacion cardiaca', 5: 'b49x micosis, no especificada', 54: 'z352 supervision de embarazo con otro riesgo en la historia obstetrica o reproductiva', 48: 'z201 contacto con y exposicion a tuberculosis', 20: 'k210 enfermedad del reflujo gastroesofagico con esofagitis', 26: 'm179 gonartrosis, no especificada', 15: 'i10x hipertension esencial (primaria)', 25: 'm139 artritis, no especificada', 33: 'r05x tos', 38: 'r53x malestar y fatiga', 37: 'r51x cefalea', 30: 'n761 vaginitis subaguda y cronica', 53: 'z309 asistencia para la anticoncepcion, no especificada', 32: 'q446 enfermedad quistica del higado', 12: 'h119 trastorno de la conjuntiva, no especificado', 40: 'r609 edema, no especificado', 62: 'z717 consulta para asesoria sobre el virus de la inmunodeficiencia humana [vih]', 41: 'r75x evidencias de laboratorio del virus de la inmunodeficiencia humana [vih]', 45: 'z002 examen durante el periodo de crecimiento rapido en la infancia', 10: 'f301 mania sin sintomas psicoticos', 29: 'n760 vaginitis aguda', 42: 't784 alergia no especificada', 19: 'j410 bronquitis cronica simple', 39: 'r54x senilidad', 16: 'j029 faringitis aguda, no especificada', 8: 'e660 obesidad debida a exceso de calorias', 7: 'd508 otras anemias por deficiencia de hierro', 34: 'r101 dolor abdominal localizado en parte superior', 36: 'r104 otros dolores abdominales y los no especificados', 21: 'k590 constipacion', 3: 'b369 micosis superficial, sin otra especificacion', 14: 'h579 trastorno del ojo y sus anexos, no especificado', 35: 'r102 dolor pelvico y perineal', 56: 'z359 supervision de embarazo de alto riesgo, sin otra especificacion', 0: 'a09x diarrea y gastroenteritis de presunto origen infeccioso', 24: 'l088 otras infecciones locales especificadas de la piel y del tejido subcutaneo', 13: 'h400 sospecha de glaucoma', 23: 'k640 hemorroides de primer grado', 18: 'j209 bronquitis aguda, no especificada', 60: 'z701 consulta relacionada con la orientacion y conducta sexual del paciente', 11: 'h010 blefaritis', 4: 'b373 candidiasis de la vulva y de la vagina', 1: 'b001 dermatitis vesicular herpetica'}\n",
      "\n"
     ]
    }
   ],
   "source": [
    "transformaciones =[]\n",
    "print(f'{pacientes.iloc[:,1].unique()}   {pacientesOriginales.iloc[:,1].unique()}')\n",
    "\n",
    "dic = {}\n",
    "for columna in range(len(pacientes.columns)):\n",
    "\n",
    "    for x in range(len(pacientes.iloc[:,columna].unique())):\n",
    "        dic[pacientes.iloc[:,columna].unique()[x]] = pacientesOriginales.iloc[:,columna].unique()[x] \n",
    "    transformaciones.append(dic)\n",
    "    dic = {}\n",
    "    \n",
    "for x in transformaciones:\n",
    "    print(x)\n",
    "    print()\n",
    "    "
   ]
  },
  {
   "cell_type": "code",
   "execution_count": 24,
   "id": "e1b60516-dd27-4a4c-9bf5-51cf9bb25b76",
   "metadata": {},
   "outputs": [
    {
     "name": "stdout",
     "output_type": "stream",
     "text": [
      "<class 'pandas.core.frame.DataFrame'>\n",
      "RangeIndex: 866 entries, 1 to 866\n",
      "Data columns (total 12 columns):\n",
      " #   Column                    Non-Null Count  Dtype\n",
      "---  ------                    --------------  -----\n",
      " 0   SEXO                      866 non-null    int32\n",
      " 1   ORIENTACION SEXUAL        866 non-null    int32\n",
      " 2   IDENTIDAD GENERO          866 non-null    int32\n",
      " 3   EDAD AÑOS                 866 non-null    int32\n",
      " 4   APORTA                    866 non-null    int32\n",
      " 5   AUTOIDENTIDAD PACIENTE    866 non-null    int32\n",
      " 6   TIPO DE BONO PACIENTE     866 non-null    int32\n",
      " 7   GP 1                      866 non-null    int32\n",
      " 8   PREVENCION                866 non-null    int32\n",
      " 9   MORBILIDAD                866 non-null    int32\n",
      " 10  CONDICION DE DIAGNOSTICO  866 non-null    int32\n",
      " 11  CODIGO CIE 10             866 non-null    int32\n",
      "dtypes: int32(12)\n",
      "memory usage: 40.7 KB\n"
     ]
    }
   ],
   "source": [
    "pacientes.info()"
   ]
  },
  {
   "cell_type": "code",
   "execution_count": 26,
   "id": "5633a981-1905-452b-a059-e376747af753",
   "metadata": {},
   "outputs": [
    {
     "data": {
      "text/plain": [
       "SEXO                        int32\n",
       "ORIENTACION SEXUAL          int32\n",
       "IDENTIDAD GENERO            int32\n",
       "EDAD AÑOS                   int32\n",
       "APORTA                      int32\n",
       "AUTOIDENTIDAD PACIENTE      int32\n",
       "TIPO DE BONO PACIENTE       int32\n",
       "GP 1                        int32\n",
       "PREVENCION                  int32\n",
       "MORBILIDAD                  int32\n",
       "CONDICION DE DIAGNOSTICO    int32\n",
       "CODIGO CIE 10               int32\n",
       "dtype: object"
      ]
     },
     "execution_count": 26,
     "metadata": {},
     "output_type": "execute_result"
    }
   ],
   "source": [
    "pacientes.dtypes"
   ]
  },
  {
   "cell_type": "code",
   "execution_count": 50,
   "id": "98d2e92b-c8bf-43c4-a35f-b386455f629e",
   "metadata": {},
   "outputs": [
    {
     "name": "stdout",
     "output_type": "stream",
     "text": [
      "59    301\n",
      "61    291\n",
      "43    107\n",
      "49     18\n",
      "44     17\n",
      "     ... \n",
      "20      1\n",
      "32      1\n",
      "26      1\n",
      "25      1\n",
      "1       1\n",
      "Name: CODIGO CIE 10, Length: 63, dtype: int64\n",
      "1    570\n",
      "0    296\n",
      "Name: SEXO, dtype: int64\n"
     ]
    }
   ],
   "source": [
    "print(pacientes['CODIGO CIE 10'].value_counts())\n",
    "print(pacientes['SEXO'].value_counts())"
   ]
  },
  {
   "cell_type": "code",
   "execution_count": 31,
   "id": "81a46293-7a81-4137-8ab6-6c99176597cd",
   "metadata": {},
   "outputs": [
    {
     "name": "stdout",
     "output_type": "stream",
     "text": [
      "         SEXO  ORIENTACION SEXUAL  IDENTIDAD GENERO  EDAD AÑOS  APORTA  \\\n",
      "count  866.00              866.00            866.00     866.00  866.00   \n",
      "mean     0.66                2.42              0.68      35.88    1.89   \n",
      "std      0.47                0.83              0.82      25.74    0.48   \n",
      "min      0.00                0.00              0.00       0.00    0.00   \n",
      "25%      0.00                2.00              0.00      13.25    2.00   \n",
      "50%      1.00                2.00              0.00      34.00    2.00   \n",
      "75%      1.00                2.00              1.00      57.00    2.00   \n",
      "max      1.00                5.00              3.00      93.00    4.00   \n",
      "\n",
      "       AUTOIDENTIDAD PACIENTE  TIPO DE BONO PACIENTE    GP 1  PREVENCION  \\\n",
      "count                   866.0                 866.00  866.00      866.00   \n",
      "mean                      2.0                   2.32    2.16        0.45   \n",
      "std                       0.2                   1.25    0.72        0.65   \n",
      "min                       0.0                   0.00    0.00        0.00   \n",
      "25%                       2.0                   3.00    2.00        0.00   \n",
      "50%                       2.0                   3.00    2.00        0.00   \n",
      "75%                       2.0                   3.00    2.00        1.00   \n",
      "max                       5.0                   3.00    4.00        2.00   \n",
      "\n",
      "       MORBILIDAD  CONDICION DE DIAGNOSTICO  CODIGO CIE 10  \n",
      "count      866.00                    866.00         866.00  \n",
      "mean         0.75                      1.92          52.75  \n",
      "std          0.65                      1.80          13.24  \n",
      "min          0.00                      0.00           0.00  \n",
      "25%          0.00                      0.00          44.00  \n",
      "50%          1.00                      1.00          59.00  \n",
      "75%          1.00                      4.00          61.00  \n",
      "max          2.00                      4.00          62.00  \n"
     ]
    }
   ],
   "source": [
    "print(round(pacientes.describe(),2))"
   ]
  },
  {
   "cell_type": "code",
   "execution_count": 49,
   "id": "303a07e6-c33f-433a-a662-7d9edfdddf5c",
   "metadata": {},
   "outputs": [
    {
     "data": {
      "image/png": "[encoded data removed]",
      "text/plain": [
       "<Figure size 2160x1800 with 36 Axes>"
      ]
     },
     "metadata": {
      "needs_background": "light"
     },
     "output_type": "display_data"
    }
   ],
   "source": [
    "plt.rcParams['figure.figsize']=(30,25)\n",
    "pacientes.plot(kind='hist', bins=7, subplots=True, layout=(12,3), sharex=False, sharey=False)\n",
    "plt.show()"
   ]
  },
  {
   "cell_type": "code",
   "execution_count": 52,
   "id": "3c2abcf7-2c46-4466-a7c7-7678d2d757d4",
   "metadata": {},
   "outputs": [
    {
     "data": {
      "text/plain": [
       "CODIGO CIE 10               1.000000\n",
       "ORIENTACION SEXUAL          0.084971\n",
       "IDENTIDAD GENERO            0.070021\n",
       "CONDICION DE DIAGNOSTICO    0.041914\n",
       "GP 1                        0.032640\n",
       "PREVENCION                  0.011903\n",
       "MORBILIDAD                 -0.002450\n",
       "SEXO                       -0.016338\n",
       "TIPO DE BONO PACIENTE      -0.044430\n",
       "AUTOIDENTIDAD PACIENTE     -0.051525\n",
       "EDAD AÑOS                  -0.070983\n",
       "APORTA                     -0.074365\n",
       "Name: CODIGO CIE 10, dtype: float64"
      ]
     },
     "execution_count": 52,
     "metadata": {},
     "output_type": "execute_result"
    }
   ],
   "source": [
    "#CALCULO de correlacion\n",
    "relaciones = pacientes.corr()\n",
    "relaciones['CODIGO CIE 10'].sort_values(ascending=False)"
   ]
  },
  {
   "cell_type": "code",
   "execution_count": 60,
   "id": "f990ff6a-24d6-4166-a5e8-c1dd0d73332a",
   "metadata": {},
   "outputs": [
    {
     "data": {
      "image/png": "[encoded data removed]",
      "text/plain": [
       "<Figure size 1440x1152 with 2 Axes>"
      ]
     },
     "metadata": {
      "needs_background": "light"
     },
     "output_type": "display_data"
    }
   ],
   "source": [
    "#mapa de correlacion\n",
    "plt.figure(figsize=(20,16))\n",
    "plt.title('Correlacion con el atributo CODIGO CIE 10')\n",
    "a = sns.heatmap(relaciones, square=True, annot=True, fmt='.2f', linecolor='white')\n",
    "a.set_xticklabels(a.get_xticklabels(), rotation=90)\n",
    "a.set_yticklabels(a.get_yticklabels(), rotation=30)           \n",
    "plt.show()"
   ]
  },
  {
   "cell_type": "code",
   "execution_count": 76,
   "id": "d639b27b-7bf5-4a81-99e3-3faa22ab61c0",
   "metadata": {},
   "outputs": [],
   "source": [
    "#desarrollo del modelo\n",
    "X = pacientes.drop(['CODIGO CIE 10'], axis=1)\n",
    "\n",
    "y = pacientes['CODIGO CIE 10']"
   ]
  },
  {
   "cell_type": "code",
   "execution_count": 77,
   "id": "c87374ad-79c8-4ae0-a5a3-71b93fac8e80",
   "metadata": {},
   "outputs": [
    {
     "data": {
      "text/plain": [
       "((692, 11), (174, 11), (692,), (174,))"
      ]
     },
     "execution_count": 77,
     "metadata": {},
     "output_type": "execute_result"
    }
   ],
   "source": [
    "#division de data (entrenamiento y prueba)\n",
    "X_train, X_test, y_train, y_test = train_test_split(X, y, test_size = 0.2, random_state = 0)\n",
    "X_train.shape, X_test.shape, y_train.shape, y_test.shape"
   ]
  },
  {
   "cell_type": "code",
   "execution_count": 78,
   "id": "c4848444-ff15-4d6c-8fbb-7a1ecac3a25a",
   "metadata": {},
   "outputs": [
    {
     "name": "stdout",
     "output_type": "stream",
     "text": [
      "X_Entrenamiento: \n",
      "SEXO                        0\n",
      "ORIENTACION SEXUAL          0\n",
      "IDENTIDAD GENERO            0\n",
      "EDAD AÑOS                   0\n",
      "APORTA                      0\n",
      "AUTOIDENTIDAD PACIENTE      0\n",
      "TIPO DE BONO PACIENTE       0\n",
      "GP 1                        0\n",
      "PREVENCION                  0\n",
      "MORBILIDAD                  0\n",
      "CONDICION DE DIAGNOSTICO    0\n",
      "dtype: int64\n",
      "X_prueba: \n",
      "SEXO                        0\n",
      "ORIENTACION SEXUAL          0\n",
      "IDENTIDAD GENERO            0\n",
      "EDAD AÑOS                   0\n",
      "APORTA                      0\n",
      "AUTOIDENTIDAD PACIENTE      0\n",
      "TIPO DE BONO PACIENTE       0\n",
      "GP 1                        0\n",
      "PREVENCION                  0\n",
      "MORBILIDAD                  0\n",
      "CONDICION DE DIAGNOSTICO    0\n",
      "dtype: int64\n"
     ]
    }
   ],
   "source": [
    "#verificamos que no existan datos faltantes\n",
    "print('X_Entrenamiento: ')\n",
    "print(X_train.isnull().sum())\n",
    "print('X_prueba: ')\n",
    "print(X_test.isnull().sum())\n"
   ]
  },
  {
   "cell_type": "code",
   "execution_count": 79,
   "id": "77687762-51c1-4f8f-a0c5-7e3ac4b1f5bd",
   "metadata": {},
   "outputs": [
    {
     "data": {
      "text/html": [
       "<div>\n",
       "<style scoped>\n",
       "    .dataframe tbody tr th:only-of-type {\n",
       "        vertical-align: middle;\n",
       "    }\n",
       "\n",
       "    .dataframe tbody tr th {\n",
       "        vertical-align: top;\n",
       "    }\n",
       "\n",
       "    .dataframe thead tr th {\n",
       "        text-align: left;\n",
       "    }\n",
       "</style>\n",
       "<table border=\"1\" class=\"dataframe\">\n",
       "  <thead>\n",
       "    <tr>\n",
       "      <th></th>\n",
       "      <th>SEXO</th>\n",
       "      <th>ORIENTACION SEXUAL</th>\n",
       "      <th>IDENTIDAD GENERO</th>\n",
       "      <th>EDAD AÑOS</th>\n",
       "      <th>APORTA</th>\n",
       "      <th>AUTOIDENTIDAD PACIENTE</th>\n",
       "      <th>TIPO DE BONO PACIENTE</th>\n",
       "      <th>GP 1</th>\n",
       "      <th>PREVENCION</th>\n",
       "      <th>MORBILIDAD</th>\n",
       "      <th>CONDICION DE DIAGNOSTICO</th>\n",
       "    </tr>\n",
       "  </thead>\n",
       "  <tbody>\n",
       "    <tr>\n",
       "      <th>0</th>\n",
       "      <td>0.72172</td>\n",
       "      <td>-0.512851</td>\n",
       "      <td>-0.824893</td>\n",
       "      <td>-0.561961</td>\n",
       "      <td>0.22482</td>\n",
       "      <td>0.028748</td>\n",
       "      <td>0.539008</td>\n",
       "      <td>2.550881</td>\n",
       "      <td>-0.701515</td>\n",
       "      <td>0.399965</td>\n",
       "      <td>1.147379</td>\n",
       "    </tr>\n",
       "    <tr>\n",
       "      <th>1</th>\n",
       "      <td>0.72172</td>\n",
       "      <td>-0.512851</td>\n",
       "      <td>-0.824893</td>\n",
       "      <td>1.109208</td>\n",
       "      <td>0.22482</td>\n",
       "      <td>0.028748</td>\n",
       "      <td>0.539008</td>\n",
       "      <td>-0.248817</td>\n",
       "      <td>-0.701515</td>\n",
       "      <td>1.954883</td>\n",
       "      <td>1.147379</td>\n",
       "    </tr>\n",
       "    <tr>\n",
       "      <th>2</th>\n",
       "      <td>0.72172</td>\n",
       "      <td>1.885075</td>\n",
       "      <td>1.609332</td>\n",
       "      <td>-1.339250</td>\n",
       "      <td>0.22482</td>\n",
       "      <td>0.028748</td>\n",
       "      <td>0.539008</td>\n",
       "      <td>-0.248817</td>\n",
       "      <td>0.844499</td>\n",
       "      <td>-1.154954</td>\n",
       "      <td>-1.072010</td>\n",
       "    </tr>\n",
       "    <tr>\n",
       "      <th>3</th>\n",
       "      <td>0.72172</td>\n",
       "      <td>-0.512851</td>\n",
       "      <td>-0.824893</td>\n",
       "      <td>-0.173317</td>\n",
       "      <td>0.22482</td>\n",
       "      <td>0.028748</td>\n",
       "      <td>0.539008</td>\n",
       "      <td>-0.248817</td>\n",
       "      <td>0.844499</td>\n",
       "      <td>-1.154954</td>\n",
       "      <td>-1.072010</td>\n",
       "    </tr>\n",
       "    <tr>\n",
       "      <th>4</th>\n",
       "      <td>-1.38558</td>\n",
       "      <td>-0.512851</td>\n",
       "      <td>0.392220</td>\n",
       "      <td>-0.523097</td>\n",
       "      <td>0.22482</td>\n",
       "      <td>0.028748</td>\n",
       "      <td>0.539008</td>\n",
       "      <td>-0.248817</td>\n",
       "      <td>-0.701515</td>\n",
       "      <td>0.399965</td>\n",
       "      <td>1.147379</td>\n",
       "    </tr>\n",
       "  </tbody>\n",
       "</table>\n",
       "</div>"
      ],
      "text/plain": [
       "      SEXO ORIENTACION SEXUAL IDENTIDAD GENERO EDAD AÑOS   APORTA  \\\n",
       "0  0.72172          -0.512851        -0.824893 -0.561961  0.22482   \n",
       "1  0.72172          -0.512851        -0.824893  1.109208  0.22482   \n",
       "2  0.72172           1.885075         1.609332 -1.339250  0.22482   \n",
       "3  0.72172          -0.512851        -0.824893 -0.173317  0.22482   \n",
       "4 -1.38558          -0.512851         0.392220 -0.523097  0.22482   \n",
       "\n",
       "  AUTOIDENTIDAD PACIENTE TIPO DE BONO PACIENTE      GP 1 PREVENCION  \\\n",
       "0               0.028748              0.539008  2.550881  -0.701515   \n",
       "1               0.028748              0.539008 -0.248817  -0.701515   \n",
       "2               0.028748              0.539008 -0.248817   0.844499   \n",
       "3               0.028748              0.539008 -0.248817   0.844499   \n",
       "4               0.028748              0.539008 -0.248817  -0.701515   \n",
       "\n",
       "  MORBILIDAD CONDICION DE DIAGNOSTICO  \n",
       "0   0.399965                 1.147379  \n",
       "1   1.954883                 1.147379  \n",
       "2  -1.154954                -1.072010  \n",
       "3  -1.154954                -1.072010  \n",
       "4   0.399965                 1.147379  "
      ]
     },
     "execution_count": 79,
     "metadata": {},
     "output_type": "execute_result"
    }
   ],
   "source": [
    "#mapeo de todas las caracteristicas para que tengan una misma escala\n",
    "# Feature scaling\n",
    "cols = X_train.columns\n",
    "scaler = StandardScaler()\n",
    "X_train = scaler.fit_transform(X_train)\n",
    "X_test = scaler.transform(X_test)\n",
    "X_train = pd.DataFrame(X_train, columns=[cols])\n",
    "X_test = pd.DataFrame(X_test, columns=[cols])\n",
    "\n",
    "X_train.head()"
   ]
  },
  {
   "cell_type": "markdown",
   "id": "84b31f67-4f39-4a4d-be4a-8df631670f91",
   "metadata": {},
   "source": [
    "Creacion del modelo :) "
   ]
  },
  {
   "cell_type": "code",
   "execution_count": 82,
   "id": "83eb11df-5d10-4ec2-b49c-47143b9e240d",
   "metadata": {},
   "outputs": [
    {
     "name": "stdout",
     "output_type": "stream",
     "text": [
      "     k  accuracy\n",
      "0    1  0.327586\n",
      "1    2  0.304598\n",
      "2    3  0.304598\n",
      "3    4  0.339080\n",
      "4    5  0.339080\n",
      "5    6  0.385057\n",
      "6    7  0.408046\n",
      "7    8  0.413793\n",
      "8    9  0.413793\n",
      "9   10  0.431034\n",
      "10  11  0.413793\n",
      "11  12  0.431034\n",
      "12  13  0.419540\n",
      "13  14  0.436782\n",
      "14  15  0.425287\n",
      "15  16  0.419540\n",
      "16  17  0.436782\n",
      "17  18  0.408046\n",
      "18  19  0.436782\n",
      "19  20  0.413793\n",
      "20  21  0.425287\n",
      "21  22  0.402299\n",
      "22  23  0.419540\n",
      "23  24  0.408046\n"
     ]
    }
   ],
   "source": [
    "# primero veremos que k nos dara un accurasi \n",
    "results = []\n",
    "for k in range(1, 25):\n",
    "    knn = KNeighborsClassifier(n_neighbors=k).fit(X_train, y_train)\n",
    "    results.append({\n",
    "        'k': k,\n",
    "        'accuracy': accuracy_score(y_test, knn.predict(X_test))\n",
    "    })\n",
    "\n",
    "# Convert results to a pandas data frame\n",
    "results = pd.DataFrame(results)\n",
    "print(results)"
   ]
  },
  {
   "cell_type": "code",
   "execution_count": 83,
   "id": "465b2ee5-dc44-49d8-ba6a-46e012d39735",
   "metadata": {},
   "outputs": [
    {
     "data": {
      "text/plain": [
       "KNeighborsClassifier(n_neighbors=9)"
      ]
     },
     "execution_count": 83,
     "metadata": {},
     "output_type": "execute_result"
    }
   ],
   "source": [
    "# con esto podemos ver que un K optimo podria ser de 7 en adelante, nosotros tomaremos k = 9\n",
    "knn = KNeighborsClassifier(n_neighbors=9)\n",
    "knn.fit(X_train, y_train)"
   ]
  },
  {
   "cell_type": "code",
   "execution_count": 84,
   "id": "fbceaf14-0ca2-4374-8885-007261795f63",
   "metadata": {},
   "outputs": [
    {
     "data": {
      "text/plain": [
       "array([61, 59, 61, 59, 61, 59, 59, 61, 47, 59, 59, 59, 61, 43, 43, 61, 43,\n",
       "       61, 61, 59, 59, 61, 59, 61, 61, 61, 61, 46, 43, 61, 43, 61, 61, 59,\n",
       "       43, 59, 59, 61, 61, 61, 61, 61, 59, 59, 61, 59, 59, 61, 59, 59, 43,\n",
       "       61, 59, 59, 59, 59, 43, 61, 59, 59, 59, 59, 59, 59, 59, 61, 59, 59,\n",
       "       59, 61, 59, 59, 59, 59, 49, 61, 61, 59, 59, 61, 59, 59, 43, 61, 59,\n",
       "       59, 59, 59, 59, 61, 59, 43, 43, 59, 59, 59, 61, 43, 61, 61, 61, 59,\n",
       "       59, 59, 61, 61, 59, 61, 61, 61, 59, 59, 59, 61, 46, 59, 61, 43, 59,\n",
       "       61, 59, 61, 59, 59, 59, 59, 59, 61, 59, 59, 59, 61, 59, 61, 61, 59,\n",
       "       49, 61, 59, 61, 46, 61, 61, 59, 61, 61, 59, 59, 59, 59, 43, 61, 61,\n",
       "       44, 61, 61, 47, 59, 61, 61, 59, 59, 61, 61, 59, 61, 61, 59, 61, 59,\n",
       "       59, 43, 61, 59])"
      ]
     },
     "execution_count": 84,
     "metadata": {},
     "output_type": "execute_result"
    }
   ],
   "source": [
    "y_pred = knn.predict(X_test)\n",
    "y_pred"
   ]
  },
  {
   "cell_type": "code",
   "execution_count": 88,
   "id": "d5a76bec-8469-494c-a7d8-20a01bf92388",
   "metadata": {},
   "outputs": [
    {
     "data": {
      "text/plain": [
       "array([0.        , 0.        , 0.        , 0.        , 0.        ,\n",
       "       0.        , 0.        , 0.        , 0.        , 0.        ,\n",
       "       0.        , 0.        , 0.        , 0.        , 0.        ,\n",
       "       0.        , 0.        , 0.        , 0.        , 0.        ,\n",
       "       0.        , 0.        , 0.        , 0.        , 0.        ,\n",
       "       0.        , 0.        , 0.        , 0.        , 0.        ,\n",
       "       0.        , 0.        , 0.        , 0.        , 0.        ,\n",
       "       0.        , 0.        , 0.        , 0.        , 0.        ,\n",
       "       0.        , 0.        , 0.        , 0.        , 0.        ,\n",
       "       0.        , 0.        , 0.        , 0.        , 0.        ,\n",
       "       0.        , 0.        , 0.        , 0.        , 0.        ,\n",
       "       0.        , 0.        , 0.        , 0.        , 0.        ,\n",
       "       0.        , 0.        , 0.        , 0.        , 0.        ,\n",
       "       0.        , 0.        , 0.        , 0.        , 0.        ,\n",
       "       0.        , 0.        , 0.        , 0.        , 0.        ,\n",
       "       0.        , 0.        , 0.        , 0.        , 0.        ,\n",
       "       0.        , 0.        , 0.        , 0.        , 0.        ,\n",
       "       0.        , 0.        , 0.        , 0.11111111, 0.        ,\n",
       "       0.        , 0.        , 0.        , 0.        , 0.        ,\n",
       "       0.        , 0.        , 0.        , 0.        , 0.        ,\n",
       "       0.        , 0.        , 0.        , 0.        , 0.        ,\n",
       "       0.        , 0.        , 0.        , 0.        , 0.        ,\n",
       "       0.        , 0.        , 0.        , 0.        , 0.        ,\n",
       "       0.        , 0.        , 0.        , 0.        , 0.        ,\n",
       "       0.        , 0.        , 0.        , 0.        , 0.        ,\n",
       "       0.        , 0.        , 0.        , 0.        , 0.        ,\n",
       "       0.        , 0.        , 0.        , 0.        , 0.        ,\n",
       "       0.        , 0.        , 0.        , 0.        , 0.        ,\n",
       "       0.        , 0.        , 0.        , 0.        , 0.        ,\n",
       "       0.        , 0.        , 0.        , 0.        , 0.        ,\n",
       "       0.        , 0.        , 0.        , 0.        , 0.        ,\n",
       "       0.        , 0.        , 0.        , 0.        , 0.        ,\n",
       "       0.        , 0.        , 0.        , 0.        , 0.        ,\n",
       "       0.        , 0.        , 0.        , 0.        , 0.        ,\n",
       "       0.        , 0.        , 0.        , 0.        ])"
      ]
     },
     "execution_count": 88,
     "metadata": {},
     "output_type": "execute_result"
    }
   ],
   "source": [
    "knn.predict_proba(X_test)[:,1] # probabilidad de tener \"b001 dermatitis vesicular herpetica\""
   ]
  },
  {
   "cell_type": "code",
   "execution_count": 89,
   "id": "4eec3317-742b-4c74-a59d-67f609424890",
   "metadata": {},
   "outputs": [
    {
     "name": "stdout",
     "output_type": "stream",
     "text": [
      "Model accuracy score: 0.4138\n"
     ]
    }
   ],
   "source": [
    "# veamos el accuracy del modelo (data de prueba)\n",
    "print('Model accuracy score: {0:0.4f}'. format(accuracy_score(y_test, y_pred)))"
   ]
  },
  {
   "cell_type": "code",
   "execution_count": 90,
   "id": "84bf7206-c56f-47dd-a7c7-07677cc5db1a",
   "metadata": {},
   "outputs": [
    {
     "name": "stdout",
     "output_type": "stream",
     "text": [
      "Training-set accuracy score: 0.5116\n"
     ]
    }
   ],
   "source": [
    "#veamos el accurracy del modelo (data de entrenamiento)\n",
    "y_pred_train = knn.predict(X_train)\n",
    "print('Training-set accuracy score: {0:0.4f}'. format(accuracy_score(y_train, y_pred_train)))"
   ]
  },
  {
   "cell_type": "code",
   "execution_count": 91,
   "id": "681b7f50-6bce-4108-878c-25298a4c6276",
   "metadata": {},
   "outputs": [
    {
     "name": "stdout",
     "output_type": "stream",
     "text": [
      "Training set score: 0.5116\n",
      "Test set score: 0.4138\n"
     ]
    }
   ],
   "source": [
    "#newHouseholdNorm = pd.DataFrame(scaler.transform(newHousehold), columns=['zIncome', 'zLot_Size'])"
   ]
  },
  {
   "cell_type": "markdown",
   "id": "93d4100b-cf7e-4cdb-a7ea-89b613ff20f8",
   "metadata": {},
   "source": [
    "# Interfaz Grafica"
   ]
  },
  {
   "cell_type": "code",
   "execution_count": null,
   "id": "9d5641b8-cd06-40e5-8cd7-56a779d4c1f3",
   "metadata": {},
   "outputs": [],
   "source": [
    "from PyQt5 import QtCore, QtGui, QtWidgets\n",
    "\n",
    "\n",
    "class Ui_MainWindow(object):\n",
    "    def setupUi(self, MainWindow):\n",
    "        MainWindow.setObjectName(\"MainWindow\")\n",
    "        MainWindow.resize(803, 483)\n",
    "        self.centralwidget = QtWidgets.QWidget(MainWindow)\n",
    "        self.centralwidget.setObjectName(\"centralwidget\")\n",
    "        self.botonSalida = QtWidgets.QPushButton(self.centralwidget)\n",
    "        self.botonSalida.setGeometry(QtCore.QRect(240, 310, 281, 41))\n",
    "        font = QtGui.QFont()\n",
    "        font.setFamily(\"Tw Cen MT Condensed Extra Bold\")\n",
    "        font.setPointSize(18)\n",
    "        self.botonSalida.setFont(font)\n",
    "        self.botonSalida.setObjectName(\"botonSalida\")\n",
    "        self.Salida = QtWidgets.QTextEdit(self.centralwidget)\n",
    "        self.Salida.setGeometry(QtCore.QRect(90, 370, 631, 81))\n",
    "        self.Salida.setObjectName(\"Salida\")\n",
    "        self.label = QtWidgets.QLabel(self.centralwidget)\n",
    "        self.label.setGeometry(QtCore.QRect(80, 30, 81, 21))\n",
    "        font = QtGui.QFont()\n",
    "        font.setFamily(\"Segoe UI Black\")\n",
    "        font.setPointSize(12)\n",
    "        font.setBold(True)\n",
    "        font.setWeight(75)\n",
    "        self.label.setFont(font)\n",
    "        self.label.setObjectName(\"label\")\n",
    "        self.label_2 = QtWidgets.QLabel(self.centralwidget)\n",
    "        self.label_2.setGeometry(QtCore.QRect(80, 80, 47, 13))\n",
    "        font = QtGui.QFont()\n",
    "        font.setFamily(\"Segoe UI Black\")\n",
    "        font.setPointSize(12)\n",
    "        font.setBold(True)\n",
    "        font.setWeight(75)\n",
    "        self.label_2.setFont(font)\n",
    "        self.label_2.setObjectName(\"label_2\")\n",
    "        self.label_3 = QtWidgets.QLabel(self.centralwidget)\n",
    "        self.label_3.setGeometry(QtCore.QRect(80, 120, 101, 16))\n",
    "        font = QtGui.QFont()\n",
    "        font.setFamily(\"Segoe UI Black\")\n",
    "        font.setPointSize(12)\n",
    "        font.setBold(True)\n",
    "        font.setWeight(75)\n",
    "        self.label_3.setFont(font)\n",
    "        self.label_3.setObjectName(\"label_3\")\n",
    "        self.label_4 = QtWidgets.QLabel(self.centralwidget)\n",
    "        self.label_4.setGeometry(QtCore.QRect(80, 170, 171, 16))\n",
    "        font = QtGui.QFont()\n",
    "        font.setFamily(\"Segoe UI Black\")\n",
    "        font.setPointSize(12)\n",
    "        font.setBold(True)\n",
    "        font.setWeight(75)\n",
    "        self.label_4.setFont(font)\n",
    "        self.label_4.setObjectName(\"label_4\")\n",
    "        self.label_5 = QtWidgets.QLabel(self.centralwidget)\n",
    "        self.label_5.setGeometry(QtCore.QRect(80, 210, 101, 16))\n",
    "        font = QtGui.QFont()\n",
    "        font.setFamily(\"Segoe UI Black\")\n",
    "        font.setPointSize(12)\n",
    "        font.setBold(True)\n",
    "        font.setWeight(75)\n",
    "        self.label_5.setFont(font)\n",
    "        self.label_5.setObjectName(\"label_5\")\n",
    "        self.label_6 = QtWidgets.QLabel(self.centralwidget)\n",
    "        self.label_6.setGeometry(QtCore.QRect(430, 30, 81, 16))\n",
    "        font = QtGui.QFont()\n",
    "        font.setFamily(\"Segoe UI Black\")\n",
    "        font.setPointSize(12)\n",
    "        font.setBold(True)\n",
    "        font.setWeight(75)\n",
    "        self.label_6.setFont(font)\n",
    "        self.label_6.setObjectName(\"label_6\")\n",
    "        self.label_7 = QtWidgets.QLabel(self.centralwidget)\n",
    "        self.label_7.setGeometry(QtCore.QRect(80, 250, 131, 16))\n",
    "        font = QtGui.QFont()\n",
    "        font.setFamily(\"Segoe UI Black\")\n",
    "        font.setPointSize(12)\n",
    "        font.setBold(True)\n",
    "        font.setWeight(75)\n",
    "        self.label_7.setFont(font)\n",
    "        self.label_7.setObjectName(\"label_7\")\n",
    "        self.label_8 = QtWidgets.QLabel(self.centralwidget)\n",
    "        self.label_8.setGeometry(QtCore.QRect(430, 200, 131, 16))\n",
    "        font = QtGui.QFont()\n",
    "        font.setFamily(\"Segoe UI Black\")\n",
    "        font.setPointSize(12)\n",
    "        font.setBold(True)\n",
    "        font.setWeight(75)\n",
    "        self.label_8.setFont(font)\n",
    "        self.label_8.setObjectName(\"label_8\")\n",
    "        self.label_9 = QtWidgets.QLabel(self.centralwidget)\n",
    "        self.label_9.setGeometry(QtCore.QRect(460, 240, 41, 20))\n",
    "        font = QtGui.QFont()\n",
    "        font.setFamily(\"Segoe UI Black\")\n",
    "        font.setPointSize(12)\n",
    "        font.setBold(True)\n",
    "        font.setWeight(75)\n",
    "        self.label_9.setFont(font)\n",
    "        self.label_9.setObjectName(\"label_9\")\n",
    "        self.label_10 = QtWidgets.QLabel(self.centralwidget)\n",
    "        self.label_10.setGeometry(QtCore.QRect(430, 160, 111, 20))\n",
    "        font = QtGui.QFont()\n",
    "        font.setFamily(\"Segoe UI Black\")\n",
    "        font.setPointSize(12)\n",
    "        font.setBold(True)\n",
    "        font.setWeight(75)\n",
    "        self.label_10.setFont(font)\n",
    "        self.label_10.setObjectName(\"label_10\")\n",
    "        self.label_12 = QtWidgets.QLabel(self.centralwidget)\n",
    "        self.label_12.setGeometry(QtCore.QRect(430, 120, 81, 16))\n",
    "        font = QtGui.QFont()\n",
    "        font.setFamily(\"Segoe UI Black\")\n",
    "        font.setPointSize(12)\n",
    "        font.setBold(True)\n",
    "        font.setWeight(75)\n",
    "        self.label_12.setFont(font)\n",
    "        self.label_12.setObjectName(\"label_12\")\n",
    "        self.label_13 = QtWidgets.QLabel(self.centralwidget)\n",
    "        self.label_13.setGeometry(QtCore.QRect(430, 80, 111, 16))\n",
    "        font = QtGui.QFont()\n",
    "        font.setFamily(\"Segoe UI Black\")\n",
    "        font.setPointSize(12)\n",
    "        font.setBold(True)\n",
    "        font.setWeight(75)\n",
    "        self.label_13.setFont(font)\n",
    "        self.label_13.setObjectName(\"label_13\")\n",
    "        self.lineEdit = QtWidgets.QLineEdit(self.centralwidget)\n",
    "        self.lineEdit.setGeometry(QtCore.QRect(170, 30, 211, 20))\n",
    "        self.lineEdit.setObjectName(\"lineEdit\")\n",
    "        self.lineEdit_2 = QtWidgets.QLineEdit(self.centralwidget)\n",
    "        self.lineEdit_2.setGeometry(QtCore.QRect(200, 210, 141, 20))\n",
    "        self.lineEdit_2.setObjectName(\"lineEdit_2\")\n",
    "        self.sexoBox = QtWidgets.QComboBox(self.centralwidget)\n",
    "        self.sexoBox.setGeometry(QtCore.QRect(160, 80, 101, 22))\n",
    "        self.sexoBox.setObjectName(\"sexoBox\")\n",
    "        self.sexoBox.addItem(\"\")\n",
    "        self.sexoBox.setItemText(0, \"\")\n",
    "        self.sexoBox.addItem(\"\")\n",
    "        self.sexoBox.addItem(\"\")\n",
    "        self.orientacionBox = QtWidgets.QComboBox(self.centralwidget)\n",
    "        self.orientacionBox.setGeometry(QtCore.QRect(200, 120, 111, 22))\n",
    "        self.orientacionBox.setObjectName(\"orientacionBox\")\n",
    "        self.orientacionBox.addItem(\"\")\n",
    "        self.orientacionBox.setItemText(0, \"\")\n",
    "        self.orientacionBox.addItem(\"\")\n",
    "        self.orientacionBox.addItem(\"\")\n",
    "        self.orientacionBox.addItem(\"\")\n",
    "        self.orientacionBox.addItem(\"\")\n",
    "        self.orientacionBox.addItem(\"\")\n",
    "        self.orientacionBox.addItem(\"\")\n",
    "        self.identidadBox = QtWidgets.QComboBox(self.centralwidget)\n",
    "        self.identidadBox.setGeometry(QtCore.QRect(270, 170, 121, 22))\n",
    "        self.identidadBox.setObjectName(\"identidadBox\")\n",
    "        self.identidadBox.addItem(\"\")\n",
    "        self.identidadBox.setItemText(0, \"\")\n",
    "        self.identidadBox.addItem(\"\")\n",
    "        self.identidadBox.addItem(\"\")\n",
    "        self.identidadBox.addItem(\"\")\n",
    "        self.identidadBox.addItem(\"\")\n",
    "        self.aportaBox = QtWidgets.QComboBox(self.centralwidget)\n",
    "        self.aportaBox.setGeometry(QtCore.QRect(560, 30, 161, 22))\n",
    "        self.aportaBox.setObjectName(\"aportaBox\")\n",
    "        self.aportaBox.addItem(\"\")\n",
    "        self.aportaBox.setItemText(0, \"\")\n",
    "        self.aportaBox.addItem(\"\")\n",
    "        self.aportaBox.addItem(\"\")\n",
    "        self.aportaBox.addItem(\"\")\n",
    "        self.aportaBox.addItem(\"\")\n",
    "        self.aportaBox.addItem(\"\")\n",
    "        self.aportaBox.addItem(\"\")\n",
    "        self.aportaBox.addItem(\"\")\n",
    "        self.prevencionBox = QtWidgets.QComboBox(self.centralwidget)\n",
    "        self.prevencionBox.setGeometry(QtCore.QRect(560, 160, 161, 22))\n",
    "        self.prevencionBox.setObjectName(\"prevencionBox\")\n",
    "        self.prevencionBox.addItem(\"\")\n",
    "        self.prevencionBox.setItemText(0, \"\")\n",
    "        self.prevencionBox.addItem(\"\")\n",
    "        self.prevencionBox.addItem(\"\")\n",
    "        self.prevencionBox.addItem(\"\")\n",
    "        self.morbilidadBox = QtWidgets.QComboBox(self.centralwidget)\n",
    "        self.morbilidadBox.setGeometry(QtCore.QRect(560, 80, 161, 22))\n",
    "        self.morbilidadBox.setObjectName(\"morbilidadBox\")\n",
    "        self.morbilidadBox.addItem(\"\")\n",
    "        self.morbilidadBox.setItemText(0, \"\")\n",
    "        self.morbilidadBox.addItem(\"\")\n",
    "        self.morbilidadBox.addItem(\"\")\n",
    "        self.morbilidadBox.addItem(\"\")\n",
    "        self.condicionBox = QtWidgets.QComboBox(self.centralwidget)\n",
    "        self.condicionBox.setGeometry(QtCore.QRect(560, 120, 161, 22))\n",
    "        self.condicionBox.setObjectName(\"condicionBox\")\n",
    "        self.condicionBox.addItem(\"\")\n",
    "        self.condicionBox.setItemText(0, \"\")\n",
    "        self.condicionBox.addItem(\"\")\n",
    "        self.condicionBox.addItem(\"\")\n",
    "        self.condicionBox.addItem(\"\")\n",
    "        self.condicionBox.addItem(\"\")\n",
    "        self.sexoBox_5 = QtWidgets.QComboBox(self.centralwidget)\n",
    "        self.sexoBox_5.setGeometry(QtCore.QRect(210, 250, 131, 22))\n",
    "        self.sexoBox_5.setObjectName(\"sexoBox_5\")\n",
    "        self.sexoBox_5.addItem(\"\")\n",
    "        self.sexoBox_5.setItemText(0, \"\")\n",
    "        self.sexoBox_5.addItem(\"\")\n",
    "        self.sexoBox_5.addItem(\"\")\n",
    "        self.sexoBox_5.addItem(\"\")\n",
    "        self.sexoBox_5.addItem(\"\")\n",
    "        self.sexoBox_5.addItem(\"\")\n",
    "        self.bonoBox = QtWidgets.QComboBox(self.centralwidget)\n",
    "        self.bonoBox.setGeometry(QtCore.QRect(560, 200, 161, 22))\n",
    "        self.bonoBox.setObjectName(\"bonoBox\")\n",
    "        self.bonoBox.addItem(\"\")\n",
    "        self.bonoBox.setItemText(0, \"\")\n",
    "        self.bonoBox.addItem(\"\")\n",
    "        self.bonoBox.addItem(\"\")\n",
    "        self.bonoBox.addItem(\"\")\n",
    "        self.bonoBox.addItem(\"\")\n",
    "        self.gpBox = QtWidgets.QComboBox(self.centralwidget)\n",
    "        self.gpBox.setGeometry(QtCore.QRect(560, 240, 161, 22))\n",
    "        self.gpBox.setObjectName(\"gpBox\")\n",
    "        self.gpBox.addItem(\"\")\n",
    "        self.gpBox.setItemText(0, \"\")\n",
    "        self.gpBox.addItem(\"\")\n",
    "        self.gpBox.addItem(\"\")\n",
    "        self.gpBox.addItem(\"\")\n",
    "        self.gpBox.addItem(\"\")\n",
    "        self.gpBox.addItem(\"\")\n",
    "        MainWindow.setCentralWidget(self.centralwidget)\n",
    "        self.statusbar = QtWidgets.QStatusBar(MainWindow)\n",
    "        self.statusbar.setObjectName(\"statusbar\")\n",
    "        MainWindow.setStatusBar(self.statusbar)\n",
    "\n",
    "        self.retranslateUi(MainWindow)\n",
    "        QtCore.QMetaObject.connectSlotsByName(MainWindow)\n",
    "\n",
    "    def retranslateUi(self, MainWindow):\n",
    "        _translate = QtCore.QCoreApplication.translate\n",
    "        MainWindow.setWindowTitle(_translate(\"MainWindow\", \"MainWindow\"))\n",
    "        self.botonSalida.setText(_translate(\"MainWindow\", \"Ver Posible Codigo CIE 10\"))\n",
    "        self.label.setText(_translate(\"MainWindow\", \"Nombre\"))\n",
    "        self.label_2.setText(_translate(\"MainWindow\", \"Sexo\"))\n",
    "        self.label_3.setText(_translate(\"MainWindow\", \"Orientacion\"))\n",
    "        self.label_4.setText(_translate(\"MainWindow\", \"Idenitdad de Genero\"))\n",
    "        self.label_5.setText(_translate(\"MainWindow\", \"Edad (Años)\"))\n",
    "        self.label_6.setText(_translate(\"MainWindow\", \"Aporta\"))\n",
    "        self.label_7.setText(_translate(\"MainWindow\", \"Autoidentidad\"))\n",
    "        self.label_8.setText(_translate(\"MainWindow\", \"Tipo de Bono\"))\n",
    "        self.label_9.setText(_translate(\"MainWindow\", \"GP1\"))\n",
    "        self.label_10.setText(_translate(\"MainWindow\", \"Prevencion\"))\n",
    "        self.label_12.setText(_translate(\"MainWindow\", \"Condicion\"))\n",
    "        self.label_13.setText(_translate(\"MainWindow\", \"Morbilidad\"))\n",
    "        self.sexoBox.setItemText(1, _translate(\"MainWindow\", \"Hombre\"))\n",
    "        self.sexoBox.setItemText(2, _translate(\"MainWindow\", \"Mujer\"))\n",
    "        self.orientacionBox.setItemText(1, _translate(\"MainWindow\", \"heterosexual\"))\n",
    "        self.orientacionBox.setItemText(2, _translate(\"MainWindow\", \"gay\"))\n",
    "        self.orientacionBox.setItemText(3, _translate(\"MainWindow\", \"lesbiana\"))\n",
    "        self.orientacionBox.setItemText(4, _translate(\"MainWindow\", \"bisexual\"))\n",
    "        self.orientacionBox.setItemText(5, _translate(\"MainWindow\", \"no aplica\"))\n",
    "        self.orientacionBox.setItemText(6, _translate(\"MainWindow\", \"no sabe\"))\n",
    "        self.identidadBox.setItemText(1, _translate(\"MainWindow\", \"femenino\"))\n",
    "        self.identidadBox.setItemText(2, _translate(\"MainWindow\", \"masculino\"))\n",
    "        self.identidadBox.setItemText(3, _translate(\"MainWindow\", \"no aplica\"))\n",
    "        self.identidadBox.setItemText(4, _translate(\"MainWindow\", \"no sabe\"))\n",
    "        self.aportaBox.setItemText(1, _translate(\"MainWindow\", \"No Aporta\"))\n",
    "        self.aportaBox.setItemText(2, _translate(\"MainWindow\", \"Seguro Isspo\"))\n",
    "        self.aportaBox.setItemText(3, _translate(\"MainWindow\", \"IESS\"))\n",
    "        self.aportaBox.setItemText(4, _translate(\"MainWindow\", \"Afiliado Seguro Campesino\"))\n",
    "        self.aportaBox.setItemText(5, _translate(\"MainWindow\", \"Seguro Campesino\"))\n",
    "        self.aportaBox.setItemText(6, _translate(\"MainWindow\", \"Afiliado Seguro General\"))\n",
    "        self.aportaBox.setItemText(7, _translate(\"MainWindow\", \"Seguro Indirecto\"))\n",
    "        self.prevencionBox.setItemText(1, _translate(\"MainWindow\", \"0\"))\n",
    "        self.prevencionBox.setItemText(2, _translate(\"MainWindow\", \"710 Primera\"))\n",
    "        self.prevencionBox.setItemText(3, _translate(\"MainWindow\", \"711 Subsecuente\"))\n",
    "        self.morbilidadBox.setItemText(1, _translate(\"MainWindow\", \"0\"))\n",
    "        self.morbilidadBox.setItemText(2, _translate(\"MainWindow\", \"710 Morbilidad\"))\n",
    "        self.morbilidadBox.setItemText(3, _translate(\"MainWindow\", \"711 Subsecuente\"))\n",
    "        self.condicionBox.setItemText(1, _translate(\"MainWindow\", \"0\"))\n",
    "        self.condicionBox.setItemText(2, _translate(\"MainWindow\", \"226 definitivo control\"))\n",
    "        self.condicionBox.setItemText(3, _translate(\"MainWindow\", \"224 definitivo inicial\"))\n",
    "        self.condicionBox.setItemText(4, _translate(\"MainWindow\", \"223 presuntivo\"))\n",
    "        self.sexoBox_5.setItemText(1, _translate(\"MainWindow\", \"mestizo/a\"))\n",
    "        self.sexoBox_5.setItemText(2, _translate(\"MainWindow\", \"indigena\"))\n",
    "        self.sexoBox_5.setItemText(3, _translate(\"MainWindow\", \"blanco/a\"))\n",
    "        self.sexoBox_5.setItemText(4, _translate(\"MainWindow\", \"no aplica\"))\n",
    "        self.sexoBox_5.setItemText(5, _translate(\"MainWindow\", \"no sabe\"))\n",
    "        self.bonoBox.setItemText(1, _translate(\"MainWindow\", \"Desarrollo Humano\"))\n",
    "        self.bonoBox.setItemText(2, _translate(\"MainWindow\", \"Joaquin Gallegos Lara\"))\n",
    "        self.bonoBox.setItemText(3, _translate(\"MainWindow\", \"Manuela Espejo\"))\n",
    "        self.bonoBox.setItemText(4, _translate(\"MainWindow\", \"ninguno\"))\n",
    "        self.gpBox.setItemText(1, _translate(\"MainWindow\", \"Embarazada\"))\n",
    "        self.gpBox.setItemText(2, _translate(\"MainWindow\", \"Planificacion Familiar\"))\n",
    "        self.gpBox.setItemText(3, _translate(\"MainWindow\", \"Persona con discapacidad\"))\n",
    "        self.gpBox.setItemText(4, _translate(\"MainWindow\", \"Enfermedades Catastroficas y raras\"))\n",
    "        self.gpBox.setItemText(5, _translate(\"MainWindow\", \"no aplica\"))\n",
    "        \n",
    "import sys\n",
    "app = QtWidgets.QApplication(sys.argv)\n",
    "MainWindow = QtWidgets.QMainWindow()\n",
    "ui = Ui_MainWindow()\n",
    "ui.setupUi(MainWindow)\n",
    "MainWindow.show()\n",
    "sys.exit(app.exec_())"
   ]
  },
  {
   "cell_type": "code",
   "execution_count": 1,
   "id": "b7dd88ad-97cc-481c-b61c-7a186dc44c0a",
   "metadata": {},
   "outputs": [
    {
     "ename": "NameError",
     "evalue": "name 'QtWidgets' is not defined",
     "output_type": "error",
     "traceback": [
      "\u001b[1;31m---------------------------------------------------------------------------\u001b[0m",
      "\u001b[1;31mNameError\u001b[0m                                 Traceback (most recent call last)",
      "\u001b[1;32m~\\AppData\\Local\\Temp/ipykernel_10036/2337346859.py\u001b[0m in \u001b[0;36m<module>\u001b[1;34m\u001b[0m\n\u001b[0;32m      1\u001b[0m \u001b[1;32mimport\u001b[0m \u001b[0msys\u001b[0m\u001b[1;33m\u001b[0m\u001b[1;33m\u001b[0m\u001b[0m\n\u001b[1;32m----> 2\u001b[1;33m \u001b[0mapp\u001b[0m \u001b[1;33m=\u001b[0m \u001b[0mQtWidgets\u001b[0m\u001b[1;33m.\u001b[0m\u001b[0mQApplication\u001b[0m\u001b[1;33m(\u001b[0m\u001b[0msys\u001b[0m\u001b[1;33m.\u001b[0m\u001b[0margv\u001b[0m\u001b[1;33m)\u001b[0m\u001b[1;33m\u001b[0m\u001b[1;33m\u001b[0m\u001b[0m\n\u001b[0m\u001b[0;32m      3\u001b[0m \u001b[0mMainWindow\u001b[0m \u001b[1;33m=\u001b[0m \u001b[0mQtWidgets\u001b[0m\u001b[1;33m.\u001b[0m\u001b[0mQMainWindow\u001b[0m\u001b[1;33m(\u001b[0m\u001b[1;33m)\u001b[0m\u001b[1;33m\u001b[0m\u001b[1;33m\u001b[0m\u001b[0m\n\u001b[0;32m      4\u001b[0m \u001b[0mui\u001b[0m \u001b[1;33m=\u001b[0m \u001b[0mUi_MainWindow\u001b[0m\u001b[1;33m(\u001b[0m\u001b[1;33m)\u001b[0m\u001b[1;33m\u001b[0m\u001b[1;33m\u001b[0m\u001b[0m\n\u001b[0;32m      5\u001b[0m \u001b[0mui\u001b[0m\u001b[1;33m.\u001b[0m\u001b[0msetupUi\u001b[0m\u001b[1;33m(\u001b[0m\u001b[0mMainWindow\u001b[0m\u001b[1;33m)\u001b[0m\u001b[1;33m\u001b[0m\u001b[1;33m\u001b[0m\u001b[0m\n",
      "\u001b[1;31mNameError\u001b[0m: name 'QtWidgets' is not defined"
     ]
    }
   ],
   "source": []
  },
  {
   "cell_type": "code",
   "execution_count": null,
   "id": "255f95a6-c9bc-494d-8aab-4e798e2faff9",
   "metadata": {},
   "outputs": [],
   "source": []
  }
 ],
 "metadata": {
  "kernelspec": {
   "display_name": "Python 3 (ipykernel)",
   "language": "python",
   "name": "python3"
  },
  "language_info": {
   "codemirror_mode": {
    "name": "ipython",
    "version": 3
   },
   "file_extension": ".py",
   "mimetype": "text/x-python",
   "name": "python",
   "nbconvert_exporter": "python",
   "pygments_lexer": "ipython3",
   "version": "3.9.7"
  }
 },
 "nbformat": 4,
 "nbformat_minor": 5
}
