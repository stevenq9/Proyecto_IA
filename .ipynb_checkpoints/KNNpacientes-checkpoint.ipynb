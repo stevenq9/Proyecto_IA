{
 "cells": [
  {
   "cell_type": "code",
   "execution_count": 7,
   "metadata": {},
   "outputs": [],
   "source": [
    "from pathlib import Path\n",
    "import pandas as pd\n",
    "from sklearn import preprocessing\n",
    "from sklearn.model_selection import train_test_split\n",
    "from sklearn.metrics import accuracy_score\n",
    "from sklearn.neighbors import NearestNeighbors, KNeighborsClassifier\n",
    "import matplotlib.pylab as plt\n",
    "import seaborn as sns \n",
    "from sklearn.preprocessing import StandardScaler\n",
    "from sklearn.metrics import accuracy_score\n",
    "\n",
    "class modeloPacientes():\n",
    "    def __init__(self):\n",
    "        self.traductor = []\n",
    "        self.scaler = StandardScaler() #para Feature scaling\n",
    "        self.knn = KNeighborsClassifier(n_neighbors=9) \n",
    "    \n",
    "    #funcion donde se creara la data\n",
    "    def entrenar(self):\n",
    "        pacientes = pd.read_csv('dataFinal.csv', sep=';', header=None)\n",
    "        pacientesOriginales =  pd.read_csv('dataFinal.csv', sep=';', header=None)\n",
    "        pacientes.columns = ['SEXO','ORIENTACION SEXUAL','IDENTIDAD GENERO','EDAD AÑOS','APORTA','AUTOIDENTIDAD PACIENTE','TIPO DE BONO PACIENTE','GP 1','PREVENCION','MORBILIDAD','CONDICION DE DIAGNOSTICO','CODIGO CIE 10']\n",
    "        pacientesOriginales.columns = ['SEXO','ORIENTACION SEXUAL','IDENTIDAD GENERO','EDAD AÑOS','APORTA','AUTOIDENTIDAD PACIENTE','TIPO DE BONO PACIENTE','GP 1','PREVENCION','MORBILIDAD','CONDICION DE DIAGNOSTICO','CODIGO CIE 10']\n",
    "        pacientes = pacientes.iloc[1:,:]\n",
    "        pacientesOriginales = pacientesOriginales.iloc[1:]\n",
    "        \n",
    "        # poner todos en minusculas\n",
    "        for x in range(len(pacientes.columns)):    \n",
    "            for i in range(len(pacientes.iloc[:,0])):\n",
    "                pacientes.iloc[i,x] = pacientes.iloc[i,x].lower() \n",
    "                pacientesOriginales.iloc[i,x] = pacientesOriginales.iloc[i,x].lower() \n",
    "                \n",
    "        #codificacion de la data\n",
    "        label_encoder = [] \n",
    "        for columna, valor in enumerate(pacientes.iloc[0,:]):    \n",
    "            print(f'{valor}---{columna}')\n",
    "            if valor.isdigit() and int(valor) != 0: # para la columna 9 y 10 uqe tienen un 0 como primer valor\n",
    "                pacientes.iloc[:,columna] = pacientes.iloc[:,columna].astype(int) # cambio de tipo de dato para edad y casteo\n",
    "                for t in range(len(pacientes.iloc[:,columna])):\n",
    "                    pacientes.iloc[t,columna] = int(pacientes.iloc[t,columna])\n",
    "            else:\n",
    "                label_encoder.append(preprocessing.LabelEncoder()) #creacion de instancia de label enconder\n",
    "                pacientes.iloc[:,columna] = label_encoder[-1].fit_transform(pacientes.iloc[:,columna]) # se codifica toda la columna\n",
    "                pacientes.iloc[:,columna].astype(int)\n",
    "                \n",
    "        #creacion de diccionario \n",
    "        dic = {}   \n",
    "        for columna in range(len(pacientes.columns)):\n",
    "            for x in range(len(pacientes.iloc[:,columna].unique())):\n",
    "                dic[pacientes.iloc[:,columna].unique()[x]] = pacientesOriginales.iloc[:,columna].unique()[x] \n",
    "            self.traductor.append(dic)\n",
    "            dic = {}       \n",
    "            \n",
    "        #desarrollo del modelo\n",
    "        X = pacientes.drop(['CODIGO CIE 10'], axis=1)\n",
    "        y = pacientes['CODIGO CIE 10']\n",
    "        X_train, X_test, y_train, y_test = train_test_split(X, y, test_size = 0.2, random_state = 0)\n",
    "        # Feature scaling\n",
    "        cols = X_train.columns\n",
    "        X_train = self.scaler.fit_transform(X_train)\n",
    "        X_test = self.scaler.transform(X_test)\n",
    "        X_train = pd.DataFrame(X_train, columns=[cols])\n",
    "        X_test = pd.DataFrame(X_test, columns=[cols])\n",
    "        #creacion de modelo KNN\n",
    "        self.knn.fit(X_train, y_train)\n",
    "        \n",
    "    def predecir(self, nuevaObservacion):\n",
    "        #transforma a minusculas\n",
    "        for x in range(len(nuevaObservacion)):\n",
    "            nuevaObservacion[x] = nuevaObservacion[x].lower()\n",
    "        #aplicar transformaciones\n",
    "        for x in range(11):\n",
    "            for i in self.traductor[x]:\n",
    "                if(x != 3):\n",
    "                    if self.traductor[x][i] == nuevaObservacion[x]:\n",
    "                        nuevaObservacion[x] = int(i)\n",
    "                else:\n",
    "                    nuevaObservacion[x]  = int(nuevaObservacion[x])\n",
    "                    \n",
    "        #escalado de los datos\n",
    "        nuevaDatafeature = pd.DataFrame([{'SEXO':nuevaObservacion[0],\n",
    "                                          'ORIENTACION SEXUAL':nuevaObservacion[1],\n",
    "                                          'IDENTIDAD GENERO':nuevaObservacion[2],\n",
    "                                          'EDAD AÑOS':nuevaObservacion[3],\n",
    "                                          'APORTA':nuevaObservacion[4],\n",
    "                                          'AUTOIDENTIDAD PACIENTE':nuevaObservacion[5],\n",
    "                                          'TIPO DE BONO PACIENTE':nuevaObservacion[6],\n",
    "                                          'GP 1':nuevaObservacion[7],\n",
    "                                          'PREVENCION':nuevaObservacion[8],\n",
    "                                          'MORBILIDAD':nuevaObservacion[9],\n",
    "                                          'CONDICION DE DIAGNOSTICO':nuevaObservacion[10]}])\n",
    "        nuevaDatafeature = pd.DataFrame(self.scaler.transform(nuevaDatafeature),columns = ['SEXO','ORIENTACION SEXUAL','IDENTIDAD GENERO','EDAD AÑOS','APORTA','AUTOIDENTIDAD PACIENTE','TIPO DE BONO PACIENTE','GP 1','PREVENCION','MORBILIDAD','CONDICION DE DIAGNOSTICO'])\n",
    "        return self.traductor[11][self.knn.predict(nuevaDatafeature)[0]]\n",
    "\n"
   ]
  },
  {
   "cell_type": "code",
   "execution_count": 8,
   "metadata": {},
   "outputs": [
    {
     "name": "stdout",
     "output_type": "stream",
     "text": [
      "mujer---0\n",
      "heterosexual---1\n",
      "femenino---2\n",
      "41---3\n",
      "no aporta---4\n",
      "mestizo/a---5\n",
      "desarrollo humano---6\n",
      "embarazadas---7\n",
      "710 primera---8\n",
      "0---9\n",
      "0---10\n",
      "z300 consejo y asesoramiento general sobre la anticoncepcion---11\n"
     ]
    },
    {
     "data": {
      "text/plain": [
       "'z713 consulta para instruccion y vigilancia de la dieta'"
      ]
     },
     "execution_count": 8,
     "metadata": {},
     "output_type": "execute_result"
    }
   ],
   "source": [
    "modelo = modeloPacientes()\n",
    "modelo.entrenar()\n",
    "modelo.predecir( ['Hombre', 'gay', 'femenino', '32', 'Seguro Isspol', 'indígena', 'Joaquín Gallegos Lara', 'Persona con discapacidad', '710 Primera', '0', '226 definitivo control'])"
   ]
  },
  {
   "cell_type": "code",
   "execution_count": null,
   "metadata": {},
   "outputs": [],
   "source": []
  }
 ],
 "metadata": {
  "kernelspec": {
   "display_name": "Python 3 (ipykernel)",
   "language": "python",
   "name": "python3"
  },
  "language_info": {
   "codemirror_mode": {
    "name": "ipython",
    "version": 3
   },
   "file_extension": ".py",
   "mimetype": "text/x-python",
   "name": "python",
   "nbconvert_exporter": "python",
   "pygments_lexer": "ipython3",
   "version": "3.10.6"
  },
  "vscode": {
   "interpreter": {
    "hash": "70beaefdb309b8e1a048cbeafcedea4885a1e966deef6a4599dc4658902dbe95"
   }
  }
 },
 "nbformat": 4,
 "nbformat_minor": 4
}
