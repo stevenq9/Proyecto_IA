{
 "cells": [
  {
   "cell_type": "code",
   "execution_count": null,
   "metadata": {},
   "outputs": [],
   "source": []
  }
 ],
 "metadata": {
  "kernelspec": {
   "display_name": "Python 3.10.6 64-bit",
   "language": "python",
   "name": "python3"
  },
  "language_info": {
   "name": "python",
   "version": "3.10.6"
  },
  "orig_nbformat": 4,
  "vscode": {
   "interpreter": {
    "hash": "70beaefdb309b8e1a048cbeafcedea4885a1e966deef6a4599dc4658902dbe95"
   }
  }
 },
 "nbformat": 4,
 "nbformat_minor": 2
}
