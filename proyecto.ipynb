{
 "cells": [
  {
   "cell_type": "code",
   "execution_count": 49,
   "metadata": {},
   "outputs": [],
   "source": [
    "import numpy as np\n",
    "import pandas as pd\n",
    "import matplotlib.pyplot as plt\n",
    "from sklearn.cluster import KMeans\n",
    "from sklearn import metrics\n",
    "from sklearn import preprocessing"
   ]
  },
  {
   "cell_type": "code",
   "execution_count": 84,
   "metadata": {},
   "outputs": [
    {
     "data": {
      "text/html": [
       "<div>\n",
       "<style scoped>\n",
       "    .dataframe tbody tr th:only-of-type {\n",
       "        vertical-align: middle;\n",
       "    }\n",
       "\n",
       "    .dataframe tbody tr th {\n",
       "        vertical-align: top;\n",
       "    }\n",
       "\n",
       "    .dataframe thead th {\n",
       "        text-align: right;\n",
       "    }\n",
       "</style>\n",
       "<table border=\"1\" class=\"dataframe\">\n",
       "  <thead>\n",
       "    <tr style=\"text-align: right;\">\n",
       "      <th></th>\n",
       "      <th>0</th>\n",
       "      <th>1</th>\n",
       "      <th>2</th>\n",
       "      <th>3</th>\n",
       "      <th>4</th>\n",
       "      <th>5</th>\n",
       "      <th>6</th>\n",
       "      <th>7</th>\n",
       "      <th>8</th>\n",
       "      <th>9</th>\n",
       "      <th>10</th>\n",
       "      <th>11</th>\n",
       "    </tr>\n",
       "  </thead>\n",
       "  <tbody>\n",
       "    <tr>\n",
       "      <th>1</th>\n",
       "      <td>Mujer</td>\n",
       "      <td>Heterosexual</td>\n",
       "      <td>Femenino</td>\n",
       "      <td>41</td>\n",
       "      <td>No aporta</td>\n",
       "      <td>Mestizo/a</td>\n",
       "      <td>Desarrollo Humano</td>\n",
       "      <td>Embarazadas</td>\n",
       "      <td>710 Primera</td>\n",
       "      <td>0</td>\n",
       "      <td>0</td>\n",
       "      <td>Z300 CONSEJO Y ASESORAMIENTO GENERAL SOBRE LA ...</td>\n",
       "    </tr>\n",
       "    <tr>\n",
       "      <th>2</th>\n",
       "      <td>Mujer</td>\n",
       "      <td>Heterosexual</td>\n",
       "      <td>Femenino</td>\n",
       "      <td>69</td>\n",
       "      <td>Seguro ISSPOL</td>\n",
       "      <td>Mestizo/a</td>\n",
       "      <td>Ninguno</td>\n",
       "      <td>No aplica</td>\n",
       "      <td>0</td>\n",
       "      <td>710 Primera</td>\n",
       "      <td>226 Definitivo Control</td>\n",
       "      <td>Z501 OTRAS TERAPIAS FISICAS</td>\n",
       "    </tr>\n",
       "    <tr>\n",
       "      <th>3</th>\n",
       "      <td>Hombre</td>\n",
       "      <td>Heterosexual</td>\n",
       "      <td>Masculino</td>\n",
       "      <td>73</td>\n",
       "      <td>IESS, Afiliado seguro Campesino</td>\n",
       "      <td>Mestizo/a</td>\n",
       "      <td>Ninguno</td>\n",
       "      <td>No aplica</td>\n",
       "      <td>0</td>\n",
       "      <td>710 Primera</td>\n",
       "      <td>226 Definitivo Control</td>\n",
       "      <td>Z501 OTRAS TERAPIAS FISICAS</td>\n",
       "    </tr>\n",
       "    <tr>\n",
       "      <th>4</th>\n",
       "      <td>Mujer</td>\n",
       "      <td>Heterosexual</td>\n",
       "      <td>Femenino</td>\n",
       "      <td>23</td>\n",
       "      <td>No aporta</td>\n",
       "      <td>Mestizo/a</td>\n",
       "      <td>Ninguno</td>\n",
       "      <td>Planificacion Familiar</td>\n",
       "      <td>711 Subsecuente</td>\n",
       "      <td>0</td>\n",
       "      <td>0</td>\n",
       "      <td>Z501 OTRAS TERAPIAS FISICAS</td>\n",
       "    </tr>\n",
       "    <tr>\n",
       "      <th>5</th>\n",
       "      <td>Hombre</td>\n",
       "      <td>Heterosexual</td>\n",
       "      <td>Masculino</td>\n",
       "      <td>19</td>\n",
       "      <td>No aporta</td>\n",
       "      <td>Mestizo/a</td>\n",
       "      <td>Ninguno</td>\n",
       "      <td>No aplica</td>\n",
       "      <td>0</td>\n",
       "      <td>710 Primera</td>\n",
       "      <td>226 Definitivo Control</td>\n",
       "      <td>Z501 OTRAS TERAPIAS FISICAS</td>\n",
       "    </tr>\n",
       "  </tbody>\n",
       "</table>\n",
       "</div>"
      ],
      "text/plain": [
       "       0             1          2   3                                4   \\\n",
       "1   Mujer  Heterosexual   Femenino  41                        No aporta   \n",
       "2   Mujer  Heterosexual   Femenino  69                    Seguro ISSPOL   \n",
       "3  Hombre  Heterosexual  Masculino  73  IESS, Afiliado seguro Campesino   \n",
       "4   Mujer  Heterosexual   Femenino  23                        No aporta   \n",
       "5  Hombre  Heterosexual  Masculino  19                        No aporta   \n",
       "\n",
       "          5                  6                       7                8   \\\n",
       "1  Mestizo/a  Desarrollo Humano             Embarazadas      710 Primera   \n",
       "2  Mestizo/a            Ninguno               No aplica                0   \n",
       "3  Mestizo/a            Ninguno               No aplica                0   \n",
       "4  Mestizo/a            Ninguno  Planificacion Familiar  711 Subsecuente   \n",
       "5  Mestizo/a            Ninguno               No aplica                0   \n",
       "\n",
       "            9                       10  \\\n",
       "1            0                       0   \n",
       "2  710 Primera  226 Definitivo Control   \n",
       "3  710 Primera  226 Definitivo Control   \n",
       "4            0                       0   \n",
       "5  710 Primera  226 Definitivo Control   \n",
       "\n",
       "                                                  11  \n",
       "1  Z300 CONSEJO Y ASESORAMIENTO GENERAL SOBRE LA ...  \n",
       "2                        Z501 OTRAS TERAPIAS FISICAS  \n",
       "3                        Z501 OTRAS TERAPIAS FISICAS  \n",
       "4                        Z501 OTRAS TERAPIAS FISICAS  \n",
       "5                        Z501 OTRAS TERAPIAS FISICAS  "
      ]
     },
     "execution_count": 84,
     "metadata": {},
     "output_type": "execute_result"
    }
   ],
   "source": [
    "pacientes = pd.read_csv('dataFinal.csv', sep=';', header=None)\n",
    "pacientes = pacientes[1:]\n",
    "pacientes.head()"
   ]
  },
  {
   "cell_type": "code",
   "execution_count": 85,
   "metadata": {},
   "outputs": [
    {
     "name": "stdout",
     "output_type": "stream",
     "text": [
      "Columna 0: ['mujer' 'hombre']\n",
      "Columna 1: ['heterosexual' 'no aplica' 'lesbiana' 'gay' 'no sabe/no responde'\n",
      " 'bisexual']\n",
      "Columna 2: ['femenino' 'masculino' 'no aplica' 'no sabe/no responde']\n",
      "Columna 3: ['41' '69' '73' '23' '19' '31' '34' '2' '14' '38' '10' '7' '32' '16' '47'\n",
      " '11' '0' '5' '22' '76' '72' '40' '17' '35' '4' '1' '63' '91' '56' '27'\n",
      " '70' '8' '46' '25' '52' '6' '29' '15' '12' '21' '24' '55' '37' '54' '39'\n",
      " '65' '61' '3' '78' '48' '20' '50' '42' '83' '85' '9' '45' '36' '33' '28'\n",
      " '26' '13' '30' '18' '64' '58' '75' '49' '77' '79' '90' '80' '84' '44'\n",
      " '87' '59' '92' '60' '53' '51' '43' '66' '67' '86' '74' '62' '68' '93'\n",
      " '81' '71' '57']\n",
      "Columna 4: ['no aporta' 'seguro isspol' 'iess, afiliado seguro campesino'\n",
      " 'iess, afiliado seguro general' 'seguro indirecto']\n",
      "Columna 5: ['mestizo/a' 'indígena' 'no aplica' 'blanco/a' 'no sabe/no responde'\n",
      " 'montubio/a']\n",
      "Columna 6: ['desarrollo humano' 'ninguno' 'joaquín gallegos lara' 'manuela espejo']\n",
      "Columna 7: ['embarazadas' 'no aplica' 'planificacion familiar'\n",
      " 'persona con discapacidad' 'enfermedades catastróficas y raras']\n",
      "Columna 8: ['710 primera' '0' '711 subsecuente']\n",
      "Columna 9: ['0' '710 primera' '711 subsecuente']\n",
      "Columna 10: ['0' '226 definitivo control' '224 definitivo inicial' '223 presuntivo'\n",
      " '225 definitivo inicial confirmado por laboratorio']\n",
      "Columna 11: ['z300 consejo y asesoramiento general sobre la anticoncepcion'\n",
      " 'z501 otras terapias fisicas' 'e669 obesidad, no especificada'\n",
      " 'z713 consulta para instruccion y vigilancia de la dieta' 'no aplica'\n",
      " 'z123 examen de pesquisa especial para tumor de la mama'\n",
      " 'z391 atencion y examen de madre en periodo de lactancia'\n",
      " 'n390 infeccion de vias urinarias, sitio no especificado'\n",
      " 'z3004 consejo y asesoramiento general sobre la anticoncepción. prescripción inical, anticonceptivo oral de emergencia.'\n",
      " 'z353 supervision de embarazo con historia de insuficiente atencion prenatal'\n",
      " 'm255 dolor en articulacion' 'z000 examen medico general'\n",
      " 'z003 examen del estado de desarrollo del adolescente'\n",
      " 'b829 parasitosis intestinal, sin otra especificacion'\n",
      " 'k591 diarrea funcional' 'z001 control de salud de rutina del niño'\n",
      " 'j039 amigdalitis aguda, no especificada'\n",
      " 'b009 infeccion debida al virus del herpes, no especificada'\n",
      " 'z3042 supervisión del uso de drogas anticonceptivas. anticonceptivos orales sólo progesterona.'\n",
      " 'z3043 supervisión del uso de drogas anticonveptivas, anticonceptivos inyectables.'\n",
      " 'z500 rehabilitacion cardiaca' 'b49x micosis, no especificada'\n",
      " 'z352 supervision de embarazo con otro riesgo en la historia obstetrica o reproductiva'\n",
      " 'z201 contacto con y exposicion a tuberculosis'\n",
      " 'k210 enfermedad del reflujo gastroesofagico con esofagitis'\n",
      " 'm179 gonartrosis, no especificada'\n",
      " 'i10x hipertension esencial (primaria)' 'm139 artritis, no especificada'\n",
      " 'r05x tos' 'r53x malestar y fatiga' 'r51x cefalea'\n",
      " 'n761 vaginitis subaguda y cronica'\n",
      " 'z309 asistencia para la anticoncepcion, no especificada'\n",
      " 'q446 enfermedad quistica del higado'\n",
      " 'h119 trastorno de la conjuntiva, no especificado'\n",
      " 'r609 edema, no especificado'\n",
      " 'z717 consulta para asesoria sobre el virus de la inmunodeficiencia humana [vih]'\n",
      " 'r75x evidencias de laboratorio del virus de la inmunodeficiencia humana [vih]'\n",
      " 'z002 examen durante el periodo de crecimiento rapido en la infancia'\n",
      " 'f301 mania sin sintomas psicoticos' 'n760 vaginitis aguda'\n",
      " 't784 alergia no especificada' 'j410 bronquitis cronica simple'\n",
      " 'r54x senilidad' 'j029 faringitis aguda, no especificada'\n",
      " 'e660 obesidad debida a exceso de calorias'\n",
      " 'd508 otras anemias por deficiencia de hierro'\n",
      " 'r101 dolor abdominal localizado en parte superior'\n",
      " 'r104 otros dolores abdominales y los no especificados'\n",
      " 'k590 constipacion' 'b369 micosis superficial, sin otra especificacion'\n",
      " 'h579 trastorno del ojo y sus anexos, no especificado'\n",
      " 'r102 dolor pelvico y perineal'\n",
      " 'z359 supervision de embarazo de alto riesgo, sin otra especificacion'\n",
      " 'a09x diarrea y gastroenteritis de presunto origen infeccioso'\n",
      " 'l088 otras infecciones locales especificadas de la piel y del tejido subcutaneo'\n",
      " 'h400 sospecha de glaucoma' 'k640 hemorroides de primer grado'\n",
      " 'j209 bronquitis aguda, no especificada'\n",
      " 'z701 consulta relacionada con la orientacion y conducta sexual del paciente'\n",
      " 'h010 blefaritis' 'b373 candidiasis de la vulva y de la vagina'\n",
      " 'b001 dermatitis vesicular herpetica']\n"
     ]
    }
   ],
   "source": [
    "# poner todos en minusculas\n",
    "for x in range(len(pacientes.columns)):    \n",
    "    for i in range(len(pacientes[1])):\n",
    "        pacientes.iloc[i,x] = pacientes.iloc[i,x].lower() \n",
    "#mostrar valores unicos\n",
    "for i in range(len(pacientes.columns)):\n",
    "    print(f'Columna {i}: {pacientes[i].unique()}')"
   ]
  },
  {
   "cell_type": "code",
   "execution_count": 86,
   "metadata": {},
   "outputs": [
    {
     "name": "stdout",
     "output_type": "stream",
     "text": [
      "0---0\n",
      "0---1\n",
      "0---2\n",
      "0---3\n",
      "0---4\n",
      "0---5\n",
      "0---6\n",
      "0---7\n",
      "0---8\n",
      "0---9\n",
      "0---10\n",
      "0---11\n"
     ]
    }
   ],
   "source": [
    "# Si algún atributo es una cadena, debe codificarse. \n",
    "\n",
    "label_encoder = [] \n",
    "\n",
    "for columna, valor in enumerate(pacientes.iloc[0,:]):    \n",
    "    print(f'{fila}---{columna}')\n",
    "    if valor.isdigit():\n",
    "        pacientes.iloc[:,columna] = pacientes.iloc[:,columna] \n",
    "    else:\n",
    "        label_encoder.append(preprocessing.LabelEncoder()) #creacion de instancia de label enconder\n",
    "        pacientes.iloc[:,columna] = label_encoder[-1].fit_transform(pacientes.iloc[:,columna]) # se codifica toda la columna\n",
    "        pacientes.iloc[:,columna].astype(int)\n"
   ]
  },
  {
   "cell_type": "code",
   "execution_count": 87,
   "metadata": {},
   "outputs": [
    {
     "data": {
      "text/html": [
       "<div>\n",
       "<style scoped>\n",
       "    .dataframe tbody tr th:only-of-type {\n",
       "        vertical-align: middle;\n",
       "    }\n",
       "\n",
       "    .dataframe tbody tr th {\n",
       "        vertical-align: top;\n",
       "    }\n",
       "\n",
       "    .dataframe thead th {\n",
       "        text-align: right;\n",
       "    }\n",
       "</style>\n",
       "<table border=\"1\" class=\"dataframe\">\n",
       "  <thead>\n",
       "    <tr style=\"text-align: right;\">\n",
       "      <th></th>\n",
       "      <th>0</th>\n",
       "      <th>1</th>\n",
       "      <th>2</th>\n",
       "      <th>3</th>\n",
       "      <th>4</th>\n",
       "      <th>5</th>\n",
       "      <th>6</th>\n",
       "      <th>7</th>\n",
       "      <th>8</th>\n",
       "      <th>9</th>\n",
       "      <th>10</th>\n",
       "      <th>11</th>\n",
       "    </tr>\n",
       "  </thead>\n",
       "  <tbody>\n",
       "    <tr>\n",
       "      <th>1</th>\n",
       "      <td>1</td>\n",
       "      <td>2</td>\n",
       "      <td>0</td>\n",
       "      <td>41</td>\n",
       "      <td>2</td>\n",
       "      <td>2</td>\n",
       "      <td>0</td>\n",
       "      <td>0</td>\n",
       "      <td>1</td>\n",
       "      <td>0</td>\n",
       "      <td>0</td>\n",
       "      <td>49</td>\n",
       "    </tr>\n",
       "    <tr>\n",
       "      <th>2</th>\n",
       "      <td>1</td>\n",
       "      <td>2</td>\n",
       "      <td>0</td>\n",
       "      <td>69</td>\n",
       "      <td>4</td>\n",
       "      <td>2</td>\n",
       "      <td>3</td>\n",
       "      <td>2</td>\n",
       "      <td>0</td>\n",
       "      <td>710 primera</td>\n",
       "      <td>226 definitivo control</td>\n",
       "      <td>59</td>\n",
       "    </tr>\n",
       "    <tr>\n",
       "      <th>3</th>\n",
       "      <td>0</td>\n",
       "      <td>2</td>\n",
       "      <td>1</td>\n",
       "      <td>73</td>\n",
       "      <td>0</td>\n",
       "      <td>2</td>\n",
       "      <td>3</td>\n",
       "      <td>2</td>\n",
       "      <td>0</td>\n",
       "      <td>710 primera</td>\n",
       "      <td>226 definitivo control</td>\n",
       "      <td>59</td>\n",
       "    </tr>\n",
       "    <tr>\n",
       "      <th>4</th>\n",
       "      <td>1</td>\n",
       "      <td>2</td>\n",
       "      <td>0</td>\n",
       "      <td>23</td>\n",
       "      <td>2</td>\n",
       "      <td>2</td>\n",
       "      <td>3</td>\n",
       "      <td>4</td>\n",
       "      <td>2</td>\n",
       "      <td>0</td>\n",
       "      <td>0</td>\n",
       "      <td>59</td>\n",
       "    </tr>\n",
       "    <tr>\n",
       "      <th>5</th>\n",
       "      <td>0</td>\n",
       "      <td>2</td>\n",
       "      <td>1</td>\n",
       "      <td>19</td>\n",
       "      <td>2</td>\n",
       "      <td>2</td>\n",
       "      <td>3</td>\n",
       "      <td>2</td>\n",
       "      <td>0</td>\n",
       "      <td>710 primera</td>\n",
       "      <td>226 definitivo control</td>\n",
       "      <td>59</td>\n",
       "    </tr>\n",
       "  </tbody>\n",
       "</table>\n",
       "</div>"
      ],
      "text/plain": [
       "   0   1   2   3   4   5   6   7   8            9                       10  11\n",
       "1   1   2   0  41   2   2   0   0   1            0                       0  49\n",
       "2   1   2   0  69   4   2   3   2   0  710 primera  226 definitivo control  59\n",
       "3   0   2   1  73   0   2   3   2   0  710 primera  226 definitivo control  59\n",
       "4   1   2   0  23   2   2   3   4   2            0                       0  59\n",
       "5   0   2   1  19   2   2   3   2   0  710 primera  226 definitivo control  59"
      ]
     },
     "execution_count": 87,
     "metadata": {},
     "output_type": "execute_result"
    }
   ],
   "source": [
    "\n",
    "pacientes.head()"
   ]
  },
  {
   "cell_type": "code",
   "execution_count": 34,
   "metadata": {},
   "outputs": [
    {
     "data": {
      "text/plain": [
       "Int64Index([0, 1, 2, 3, 4, 5, 6, 7, 8, 9, 10, 11], dtype='int64')"
      ]
     },
     "execution_count": 34,
     "metadata": {},
     "output_type": "execute_result"
    }
   ],
   "source": [
    "\n",
    "pacientes.columns"
   ]
  },
  {
   "cell_type": "code",
   "execution_count": 33,
   "metadata": {},
   "outputs": [
    {
     "data": {
      "text/plain": [
       "'Heterosexual'"
      ]
     },
     "execution_count": 33,
     "metadata": {},
     "output_type": "execute_result"
    }
   ],
   "source": [
    "pacientes.iloc[1,1]"
   ]
  },
  {
   "cell_type": "code",
   "execution_count": 37,
   "metadata": {},
   "outputs": [
    {
     "data": {
      "text/plain": [
       "866"
      ]
     },
     "execution_count": 37,
     "metadata": {},
     "output_type": "execute_result"
    }
   ],
   "source": [
    "len(pacientes[1])"
   ]
  },
  {
   "cell_type": "code",
   "execution_count": 50,
   "metadata": {},
   "outputs": [
    {
     "data": {
      "text/plain": [
       "<enumerate at 0x13892ccb2c0>"
      ]
     },
     "execution_count": 50,
     "metadata": {},
     "output_type": "execute_result"
    }
   ],
   "source": [
    "enumerate(pacientes[0])"
   ]
  },
  {
   "cell_type": "code",
   "execution_count": 66,
   "metadata": {},
   "outputs": [
    {
     "ename": "KeyError",
     "evalue": "0",
     "output_type": "error",
     "traceback": [
      "\u001b[1;31m---------------------------------------------------------------------------\u001b[0m",
      "\u001b[1;31mValueError\u001b[0m                                Traceback (most recent call last)",
      "\u001b[1;32m~\\anaconda3\\lib\\site-packages\\pandas\\core\\indexes\\range.py\u001b[0m in \u001b[0;36mget_loc\u001b[1;34m(self, key, method, tolerance)\u001b[0m\n\u001b[0;32m    384\u001b[0m                 \u001b[1;32mtry\u001b[0m\u001b[1;33m:\u001b[0m\u001b[1;33m\u001b[0m\u001b[1;33m\u001b[0m\u001b[0m\n\u001b[1;32m--> 385\u001b[1;33m                     \u001b[1;32mreturn\u001b[0m \u001b[0mself\u001b[0m\u001b[1;33m.\u001b[0m\u001b[0m_range\u001b[0m\u001b[1;33m.\u001b[0m\u001b[0mindex\u001b[0m\u001b[1;33m(\u001b[0m\u001b[0mnew_key\u001b[0m\u001b[1;33m)\u001b[0m\u001b[1;33m\u001b[0m\u001b[1;33m\u001b[0m\u001b[0m\n\u001b[0m\u001b[0;32m    386\u001b[0m                 \u001b[1;32mexcept\u001b[0m \u001b[0mValueError\u001b[0m \u001b[1;32mas\u001b[0m \u001b[0merr\u001b[0m\u001b[1;33m:\u001b[0m\u001b[1;33m\u001b[0m\u001b[1;33m\u001b[0m\u001b[0m\n",
      "\u001b[1;31mValueError\u001b[0m: 0 is not in range",
      "\nThe above exception was the direct cause of the following exception:\n",
      "\u001b[1;31mKeyError\u001b[0m                                  Traceback (most recent call last)",
      "\u001b[1;32m~\\AppData\\Local\\Temp/ipykernel_9312/2305697138.py\u001b[0m in \u001b[0;36m<module>\u001b[1;34m\u001b[0m\n\u001b[1;32m----> 1\u001b[1;33m \u001b[0mprint\u001b[0m\u001b[1;33m(\u001b[0m\u001b[0mpacientes\u001b[0m\u001b[1;33m[\u001b[0m\u001b[1;36m0\u001b[0m\u001b[1;33m]\u001b[0m\u001b[1;33m[\u001b[0m\u001b[1;36m0\u001b[0m\u001b[1;33m]\u001b[0m\u001b[1;33m)\u001b[0m\u001b[1;33m\u001b[0m\u001b[1;33m\u001b[0m\u001b[0m\n\u001b[0m",
      "\u001b[1;32m~\\anaconda3\\lib\\site-packages\\pandas\\core\\series.py\u001b[0m in \u001b[0;36m__getitem__\u001b[1;34m(self, key)\u001b[0m\n\u001b[0;32m    940\u001b[0m \u001b[1;33m\u001b[0m\u001b[0m\n\u001b[0;32m    941\u001b[0m         \u001b[1;32melif\u001b[0m \u001b[0mkey_is_scalar\u001b[0m\u001b[1;33m:\u001b[0m\u001b[1;33m\u001b[0m\u001b[1;33m\u001b[0m\u001b[0m\n\u001b[1;32m--> 942\u001b[1;33m             \u001b[1;32mreturn\u001b[0m \u001b[0mself\u001b[0m\u001b[1;33m.\u001b[0m\u001b[0m_get_value\u001b[0m\u001b[1;33m(\u001b[0m\u001b[0mkey\u001b[0m\u001b[1;33m)\u001b[0m\u001b[1;33m\u001b[0m\u001b[1;33m\u001b[0m\u001b[0m\n\u001b[0m\u001b[0;32m    943\u001b[0m \u001b[1;33m\u001b[0m\u001b[0m\n\u001b[0;32m    944\u001b[0m         \u001b[1;32mif\u001b[0m \u001b[0mis_hashable\u001b[0m\u001b[1;33m(\u001b[0m\u001b[0mkey\u001b[0m\u001b[1;33m)\u001b[0m\u001b[1;33m:\u001b[0m\u001b[1;33m\u001b[0m\u001b[1;33m\u001b[0m\u001b[0m\n",
      "\u001b[1;32m~\\anaconda3\\lib\\site-packages\\pandas\\core\\series.py\u001b[0m in \u001b[0;36m_get_value\u001b[1;34m(self, label, takeable)\u001b[0m\n\u001b[0;32m   1049\u001b[0m \u001b[1;33m\u001b[0m\u001b[0m\n\u001b[0;32m   1050\u001b[0m         \u001b[1;31m# Similar to Index.get_value, but we do not fall back to positional\u001b[0m\u001b[1;33m\u001b[0m\u001b[1;33m\u001b[0m\u001b[0m\n\u001b[1;32m-> 1051\u001b[1;33m         \u001b[0mloc\u001b[0m \u001b[1;33m=\u001b[0m \u001b[0mself\u001b[0m\u001b[1;33m.\u001b[0m\u001b[0mindex\u001b[0m\u001b[1;33m.\u001b[0m\u001b[0mget_loc\u001b[0m\u001b[1;33m(\u001b[0m\u001b[0mlabel\u001b[0m\u001b[1;33m)\u001b[0m\u001b[1;33m\u001b[0m\u001b[1;33m\u001b[0m\u001b[0m\n\u001b[0m\u001b[0;32m   1052\u001b[0m         \u001b[1;32mreturn\u001b[0m \u001b[0mself\u001b[0m\u001b[1;33m.\u001b[0m\u001b[0mindex\u001b[0m\u001b[1;33m.\u001b[0m\u001b[0m_get_values_for_loc\u001b[0m\u001b[1;33m(\u001b[0m\u001b[0mself\u001b[0m\u001b[1;33m,\u001b[0m \u001b[0mloc\u001b[0m\u001b[1;33m,\u001b[0m \u001b[0mlabel\u001b[0m\u001b[1;33m)\u001b[0m\u001b[1;33m\u001b[0m\u001b[1;33m\u001b[0m\u001b[0m\n\u001b[0;32m   1053\u001b[0m \u001b[1;33m\u001b[0m\u001b[0m\n",
      "\u001b[1;32m~\\anaconda3\\lib\\site-packages\\pandas\\core\\indexes\\range.py\u001b[0m in \u001b[0;36mget_loc\u001b[1;34m(self, key, method, tolerance)\u001b[0m\n\u001b[0;32m    385\u001b[0m                     \u001b[1;32mreturn\u001b[0m \u001b[0mself\u001b[0m\u001b[1;33m.\u001b[0m\u001b[0m_range\u001b[0m\u001b[1;33m.\u001b[0m\u001b[0mindex\u001b[0m\u001b[1;33m(\u001b[0m\u001b[0mnew_key\u001b[0m\u001b[1;33m)\u001b[0m\u001b[1;33m\u001b[0m\u001b[1;33m\u001b[0m\u001b[0m\n\u001b[0;32m    386\u001b[0m                 \u001b[1;32mexcept\u001b[0m \u001b[0mValueError\u001b[0m \u001b[1;32mas\u001b[0m \u001b[0merr\u001b[0m\u001b[1;33m:\u001b[0m\u001b[1;33m\u001b[0m\u001b[1;33m\u001b[0m\u001b[0m\n\u001b[1;32m--> 387\u001b[1;33m                     \u001b[1;32mraise\u001b[0m \u001b[0mKeyError\u001b[0m\u001b[1;33m(\u001b[0m\u001b[0mkey\u001b[0m\u001b[1;33m)\u001b[0m \u001b[1;32mfrom\u001b[0m \u001b[0merr\u001b[0m\u001b[1;33m\u001b[0m\u001b[1;33m\u001b[0m\u001b[0m\n\u001b[0m\u001b[0;32m    388\u001b[0m             \u001b[1;32mraise\u001b[0m \u001b[0mKeyError\u001b[0m\u001b[1;33m(\u001b[0m\u001b[0mkey\u001b[0m\u001b[1;33m)\u001b[0m\u001b[1;33m\u001b[0m\u001b[1;33m\u001b[0m\u001b[0m\n\u001b[0;32m    389\u001b[0m         \u001b[1;32mreturn\u001b[0m \u001b[0msuper\u001b[0m\u001b[1;33m(\u001b[0m\u001b[1;33m)\u001b[0m\u001b[1;33m.\u001b[0m\u001b[0mget_loc\u001b[0m\u001b[1;33m(\u001b[0m\u001b[0mkey\u001b[0m\u001b[1;33m,\u001b[0m \u001b[0mmethod\u001b[0m\u001b[1;33m=\u001b[0m\u001b[0mmethod\u001b[0m\u001b[1;33m,\u001b[0m \u001b[0mtolerance\u001b[0m\u001b[1;33m=\u001b[0m\u001b[0mtolerance\u001b[0m\u001b[1;33m)\u001b[0m\u001b[1;33m\u001b[0m\u001b[1;33m\u001b[0m\u001b[0m\n",
      "\u001b[1;31mKeyError\u001b[0m: 0"
     ]
    }
   ],
   "source": [
    "\n"
   ]
  },
  {
   "cell_type": "code",
   "execution_count": null,
   "metadata": {},
   "outputs": [],
   "source": []
  }
 ],
 "metadata": {
  "kernelspec": {
   "display_name": "Python 3 (ipykernel)",
   "language": "python",
   "name": "python3"
  },
  "language_info": {
   "codemirror_mode": {
    "name": "ipython",
    "version": 3
   },
   "file_extension": ".py",
   "mimetype": "text/x-python",
   "name": "python",
   "nbconvert_exporter": "python",
   "pygments_lexer": "ipython3",
   "version": "3.9.7"
  },
  "vscode": {
   "interpreter": {
    "hash": "70beaefdb309b8e1a048cbeafcedea4885a1e966deef6a4599dc4658902dbe95"
   }
  }
 },
 "nbformat": 4,
 "nbformat_minor": 4
}
